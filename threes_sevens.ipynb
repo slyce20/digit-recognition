{
 "cells": [
  {
   "cell_type": "code",
   "execution_count": 1,
   "id": "903f8d53",
   "metadata": {
    "_cell_guid": "b1076dfc-b9ad-4769-8c92-a6c4dae69d19",
    "_uuid": "8f2839f25d086af736a60e9eeb907d3b93b6e0e5",
    "execution": {
     "iopub.execute_input": "2023-04-22T19:43:34.857514Z",
     "iopub.status.busy": "2023-04-22T19:43:34.856586Z",
     "iopub.status.idle": "2023-04-22T19:43:38.176080Z",
     "shell.execute_reply": "2023-04-22T19:43:38.175044Z"
    },
    "papermill": {
     "duration": 3.329769,
     "end_time": "2023-04-22T19:43:38.178652",
     "exception": false,
     "start_time": "2023-04-22T19:43:34.848883",
     "status": "completed"
    },
    "tags": []
   },
   "outputs": [],
   "source": [
    "from fastai.text.all import *"
   ]
  },
  {
   "cell_type": "code",
   "execution_count": 2,
   "id": "90a1ee3d",
   "metadata": {
    "execution": {
     "iopub.execute_input": "2023-04-22T19:43:38.191555Z",
     "iopub.status.busy": "2023-04-22T19:43:38.191105Z",
     "iopub.status.idle": "2023-04-22T19:43:41.944591Z",
     "shell.execute_reply": "2023-04-22T19:43:41.943528Z"
    },
    "papermill": {
     "duration": 3.763155,
     "end_time": "2023-04-22T19:43:41.947665",
     "exception": false,
     "start_time": "2023-04-22T19:43:38.184510",
     "status": "completed"
    },
    "tags": []
   },
   "outputs": [
    {
     "data": {
      "text/html": [
       "\n",
       "<style>\n",
       "    /* Turns off some styling */\n",
       "    progress {\n",
       "        /* gets rid of default border in Firefox and Opera. */\n",
       "        border: none;\n",
       "        /* Needs to be in here for Safari polyfill so background images work as expected. */\n",
       "        background-size: auto;\n",
       "    }\n",
       "    progress:not([value]), progress:not([value])::-webkit-progress-bar {\n",
       "        background: repeating-linear-gradient(45deg, #7e7e7e, #7e7e7e 10px, #5c5c5c 10px, #5c5c5c 20px);\n",
       "    }\n",
       "    .progress-bar-interrupted, .progress-bar-interrupted::-webkit-progress-bar {\n",
       "        background: #F44336;\n",
       "    }\n",
       "</style>\n"
      ],
      "text/plain": [
       "<IPython.core.display.HTML object>"
      ]
     },
     "metadata": {},
     "output_type": "display_data"
    },
    {
     "data": {
      "text/html": [
       "\n",
       "    <div>\n",
       "      <progress value='3219456' class='' max='3214948' style='width:300px; height:20px; vertical-align: middle;'></progress>\n",
       "      100.14% [3219456/3214948 00:00&lt;00:00]\n",
       "    </div>\n",
       "    "
      ],
      "text/plain": [
       "<IPython.core.display.HTML object>"
      ]
     },
     "metadata": {},
     "output_type": "display_data"
    }
   ],
   "source": [
    "path = untar_data(URLs.MNIST_SAMPLE)"
   ]
  },
  {
   "cell_type": "code",
   "execution_count": 3,
   "id": "894fa82a",
   "metadata": {
    "execution": {
     "iopub.execute_input": "2023-04-22T19:43:41.960746Z",
     "iopub.status.busy": "2023-04-22T19:43:41.960441Z",
     "iopub.status.idle": "2023-04-22T19:43:41.967205Z",
     "shell.execute_reply": "2023-04-22T19:43:41.965970Z"
    },
    "papermill": {
     "duration": 0.016674,
     "end_time": "2023-04-22T19:43:41.970286",
     "exception": false,
     "start_time": "2023-04-22T19:43:41.953612",
     "status": "completed"
    },
    "tags": []
   },
   "outputs": [
    {
     "data": {
      "text/plain": [
       "(#3) [Path('/root/.fastai/data/mnist_sample/valid'),Path('/root/.fastai/data/mnist_sample/labels.csv'),Path('/root/.fastai/data/mnist_sample/train')]"
      ]
     },
     "execution_count": 3,
     "metadata": {},
     "output_type": "execute_result"
    }
   ],
   "source": [
    "path.ls()"
   ]
  },
  {
   "cell_type": "code",
   "execution_count": 4,
   "id": "98a9bddb",
   "metadata": {
    "execution": {
     "iopub.execute_input": "2023-04-22T19:43:41.983714Z",
     "iopub.status.busy": "2023-04-22T19:43:41.982827Z",
     "iopub.status.idle": "2023-04-22T19:43:41.989960Z",
     "shell.execute_reply": "2023-04-22T19:43:41.988878Z"
    },
    "papermill": {
     "duration": 0.01635,
     "end_time": "2023-04-22T19:43:41.992289",
     "exception": false,
     "start_time": "2023-04-22T19:43:41.975939",
     "status": "completed"
    },
    "tags": []
   },
   "outputs": [
    {
     "data": {
      "text/plain": [
       "(#2) [Path('/root/.fastai/data/mnist_sample/train/7'),Path('/root/.fastai/data/mnist_sample/train/3')]"
      ]
     },
     "execution_count": 4,
     "metadata": {},
     "output_type": "execute_result"
    }
   ],
   "source": [
    "(path/'train').ls()"
   ]
  },
  {
   "cell_type": "code",
   "execution_count": 5,
   "id": "b96802b9",
   "metadata": {
    "execution": {
     "iopub.execute_input": "2023-04-22T19:43:42.005598Z",
     "iopub.status.busy": "2023-04-22T19:43:42.004719Z",
     "iopub.status.idle": "2023-04-22T19:43:42.112176Z",
     "shell.execute_reply": "2023-04-22T19:43:42.111231Z"
    },
    "papermill": {
     "duration": 0.116282,
     "end_time": "2023-04-22T19:43:42.114350",
     "exception": false,
     "start_time": "2023-04-22T19:43:41.998068",
     "status": "completed"
    },
    "tags": []
   },
   "outputs": [],
   "source": [
    "threes = (path/'train'/'3').ls().sorted()\n",
    "sevens = (path/'train'/'7').ls().sorted()"
   ]
  },
  {
   "cell_type": "code",
   "execution_count": 6,
   "id": "d9405284",
   "metadata": {
    "execution": {
     "iopub.execute_input": "2023-04-22T19:43:42.127929Z",
     "iopub.status.busy": "2023-04-22T19:43:42.126879Z",
     "iopub.status.idle": "2023-04-22T19:43:42.133562Z",
     "shell.execute_reply": "2023-04-22T19:43:42.132501Z"
    },
    "papermill": {
     "duration": 0.016078,
     "end_time": "2023-04-22T19:43:42.136209",
     "exception": false,
     "start_time": "2023-04-22T19:43:42.120131",
     "status": "completed"
    },
    "tags": []
   },
   "outputs": [
    {
     "data": {
      "text/plain": [
       "(#6265) [Path('/root/.fastai/data/mnist_sample/train/7/10002.png'),Path('/root/.fastai/data/mnist_sample/train/7/1001.png'),Path('/root/.fastai/data/mnist_sample/train/7/10014.png'),Path('/root/.fastai/data/mnist_sample/train/7/10019.png'),Path('/root/.fastai/data/mnist_sample/train/7/10039.png'),Path('/root/.fastai/data/mnist_sample/train/7/10046.png'),Path('/root/.fastai/data/mnist_sample/train/7/10050.png'),Path('/root/.fastai/data/mnist_sample/train/7/10063.png'),Path('/root/.fastai/data/mnist_sample/train/7/10077.png'),Path('/root/.fastai/data/mnist_sample/train/7/10086.png')...]"
      ]
     },
     "execution_count": 6,
     "metadata": {},
     "output_type": "execute_result"
    }
   ],
   "source": [
    "sevens"
   ]
  },
  {
   "cell_type": "code",
   "execution_count": 7,
   "id": "1fdabb62",
   "metadata": {
    "execution": {
     "iopub.execute_input": "2023-04-22T19:43:42.154006Z",
     "iopub.status.busy": "2023-04-22T19:43:42.151680Z",
     "iopub.status.idle": "2023-04-22T19:43:42.173703Z",
     "shell.execute_reply": "2023-04-22T19:43:42.172628Z"
    },
    "papermill": {
     "duration": 0.034038,
     "end_time": "2023-04-22T19:43:42.176089",
     "exception": false,
     "start_time": "2023-04-22T19:43:42.142051",
     "status": "completed"
    },
    "tags": []
   },
   "outputs": [
    {
     "data": {
      "image/png": "[encoded data removed]",
      "text/plain": [
       "<PIL.PngImagePlugin.PngImageFile image mode=L size=28x28>"
      ]
     },
     "execution_count": 7,
     "metadata": {},
     "output_type": "execute_result"
    }
   ],
   "source": [
    "from PIL import Image\n",
    "im3_path = threes[1]\n",
    "im3 = Image.open(im3_path)\n",
    "im3"
   ]
  },
  {
   "cell_type": "code",
   "execution_count": 8,
   "id": "88015c7d",
   "metadata": {
    "execution": {
     "iopub.execute_input": "2023-04-22T19:43:42.190261Z",
     "iopub.status.busy": "2023-04-22T19:43:42.189960Z",
     "iopub.status.idle": "2023-04-22T19:43:42.232344Z",
     "shell.execute_reply": "2023-04-22T19:43:42.231227Z"
    },
    "papermill": {
     "duration": 0.052576,
     "end_time": "2023-04-22T19:43:42.234682",
     "exception": false,
     "start_time": "2023-04-22T19:43:42.182106",
     "status": "completed"
    },
    "tags": []
   },
   "outputs": [
    {
     "data": {
      "text/plain": [
       "tensor([[  0,   0,   0,   0,   0,   0,   0,   0,   0,   0,   0,   0,   0,   0,\n",
       "           0,   0,   0,   0,   0,   0,   0,   0,   0,   0,   0,   0,   0,   0],\n",
       "        [  0,   0,   0,   0,   0,   0,   0,   0,   0,   0,   0,   0,   0,   0,\n",
       "           0,   0,   0,   0,   0,   0,   0,   0,   0,   0,   0,   0,   0,   0],\n",
       "        [  0,   0,   0,   0,   0,   0,   0,   0,   0,   0,   0,   0,   0,   0,\n",
       "           0,   0,   0,   0,   0,   0,   0,   0,   0,   0,   0,   0,   0,   0],\n",
       "        [  0,   0,   0,   0,   0,   0,   0,   0,   0,   0,   0,   0,   0,   0,\n",
       "           0,   0,   0,   0,   0,   0,   0,   0,   0,   0,   0,   0,   0,   0],\n",
       "        [  0,   0,   0,   0,   0,   0,   0,   0,   0,   0,   0,   0,   0,   0,\n",
       "           0,   0,   0,   0,   0,   0,   0,   0,   0,   0,   0,   0,   0,   0],\n",
       "        [  0,   0,   0,   0,   0,   0,   0,   0,   0,  29, 150, 195, 254, 255,\n",
       "         254, 176, 193, 150,  96,   0,   0,   0,   0,   0,   0,   0,   0,   0],\n",
       "        [  0,   0,   0,   0,   0,   0,   0,  48, 166, 224, 253, 253, 234, 196,\n",
       "         253, 253, 253, 253, 233,   0,   0,   0,   0,   0,   0,   0,   0,   0],\n",
       "        [  0,   0,   0,   0,   0,  93, 244, 249, 253, 187,  46,  10,   8,   4,\n",
       "          10, 194, 253, 253, 233,   0,   0,   0,   0,   0,   0,   0,   0,   0],\n",
       "        [  0,   0,   0,   0,   0, 107, 253, 253, 230,  48,   0,   0,   0,   0,\n",
       "           0, 192, 253, 253, 156,   0,   0,   0,   0,   0,   0,   0,   0,   0],\n",
       "        [  0,   0,   0,   0,   0,   3,  20,  20,  15,   0,   0,   0,   0,   0,\n",
       "          43, 224, 253, 245,  74,   0,   0,   0,   0,   0,   0,   0,   0,   0],\n",
       "        [  0,   0,   0,   0,   0,   0,   0,   0,   0,   0,   0,   0,   0,   0,\n",
       "         249, 253, 245, 126,   0,   0,   0,   0,   0,   0,   0,   0,   0,   0],\n",
       "        [  0,   0,   0,   0,   0,   0,   0,   0,   0,   0,   0,  14, 101, 223,\n",
       "         253, 248, 124,   0,   0,   0,   0,   0,   0,   0,   0,   0,   0,   0],\n",
       "        [  0,   0,   0,   0,   0,   0,   0,   0,   0,  11, 166, 239, 253, 253,\n",
       "         253, 187,  30,   0,   0,   0,   0,   0,   0,   0,   0,   0,   0,   0],\n",
       "        [  0,   0,   0,   0,   0,   0,   0,   0,   0,  16, 248, 250, 253, 253,\n",
       "         253, 253, 232, 213, 111,   2,   0,   0,   0,   0,   0,   0,   0,   0],\n",
       "        [  0,   0,   0,   0,   0,   0,   0,   0,   0,   0,   0,  43,  98,  98,\n",
       "         208, 253, 253, 253, 253, 187,  22,   0,   0,   0,   0,   0,   0,   0],\n",
       "        [  0,   0,   0,   0,   0,   0,   0,   0,   0,   0,   0,   0,   0,   0,\n",
       "           9,  51, 119, 253, 253, 253,  76,   0,   0,   0,   0,   0,   0,   0],\n",
       "        [  0,   0,   0,   0,   0,   0,   0,   0,   0,   0,   0,   0,   0,   0,\n",
       "           0,   0,   1, 183, 253, 253, 139,   0,   0,   0,   0,   0,   0,   0],\n",
       "        [  0,   0,   0,   0,   0,   0,   0,   0,   0,   0,   0,   0,   0,   0,\n",
       "           0,   0,   0, 182, 253, 253, 104,   0,   0,   0,   0,   0,   0,   0],\n",
       "        [  0,   0,   0,   0,   0,   0,   0,   0,   0,   0,   0,   0,   0,   0,\n",
       "           0,   0,  85, 249, 253, 253,  36,   0,   0,   0,   0,   0,   0,   0],\n",
       "        [  0,   0,   0,   0,   0,   0,   0,   0,   0,   0,   0,   0,   0,   0,\n",
       "           0,  60, 214, 253, 253, 173,  11,   0,   0,   0,   0,   0,   0,   0],\n",
       "        [  0,   0,   0,   0,   0,   0,   0,   0,   0,   0,   0,   0,   0,   0,\n",
       "          98, 247, 253, 253, 226,   9,   0,   0,   0,   0,   0,   0,   0,   0],\n",
       "        [  0,   0,   0,   0,   0,   0,   0,   0,   0,   0,   0,   0,  42, 150,\n",
       "         252, 253, 253, 233,  53,   0,   0,   0,   0,   0,   0,   0,   0,   0],\n",
       "        [  0,   0,   0,   0,   0,   0,  42, 115,  42,  60, 115, 159, 240, 253,\n",
       "         253, 250, 175,  25,   0,   0,   0,   0,   0,   0,   0,   0,   0,   0],\n",
       "        [  0,   0,   0,   0,   0,   0, 187, 253, 253, 253, 253, 253, 253, 253,\n",
       "         197,  86,   0,   0,   0,   0,   0,   0,   0,   0,   0,   0,   0,   0],\n",
       "        [  0,   0,   0,   0,   0,   0, 103, 253, 253, 253, 253, 253, 232,  67,\n",
       "           1,   0,   0,   0,   0,   0,   0,   0,   0,   0,   0,   0,   0,   0],\n",
       "        [  0,   0,   0,   0,   0,   0,   0,   0,   0,   0,   0,   0,   0,   0,\n",
       "           0,   0,   0,   0,   0,   0,   0,   0,   0,   0,   0,   0,   0,   0],\n",
       "        [  0,   0,   0,   0,   0,   0,   0,   0,   0,   0,   0,   0,   0,   0,\n",
       "           0,   0,   0,   0,   0,   0,   0,   0,   0,   0,   0,   0,   0,   0],\n",
       "        [  0,   0,   0,   0,   0,   0,   0,   0,   0,   0,   0,   0,   0,   0,\n",
       "           0,   0,   0,   0,   0,   0,   0,   0,   0,   0,   0,   0,   0,   0]],\n",
       "       dtype=torch.uint8)"
      ]
     },
     "execution_count": 8,
     "metadata": {},
     "output_type": "execute_result"
    }
   ],
   "source": [
    "tensor(im3)"
   ]
  },
  {
   "cell_type": "code",
   "execution_count": 9,
   "id": "3a6aac6e",
   "metadata": {
    "execution": {
     "iopub.execute_input": "2023-04-22T19:43:42.248911Z",
     "iopub.status.busy": "2023-04-22T19:43:42.248091Z",
     "iopub.status.idle": "2023-04-22T19:43:42.272871Z",
     "shell.execute_reply": "2023-04-22T19:43:42.271813Z"
    },
    "papermill": {
     "duration": 0.034216,
     "end_time": "2023-04-22T19:43:42.275087",
     "exception": false,
     "start_time": "2023-04-22T19:43:42.240871",
     "status": "completed"
    },
    "tags": []
   },
   "outputs": [
    {
     "data": {
      "text/plain": [
       "tensor([[  0,   0,   0,   0,   0,   0],\n",
       "        [  0,   0,   0,   0,   0,  29],\n",
       "        [  0,   0,   0,  48, 166, 224],\n",
       "        [  0,  93, 244, 249, 253, 187],\n",
       "        [  0, 107, 253, 253, 230,  48],\n",
       "        [  0,   3,  20,  20,  15,   0]], dtype=torch.uint8)"
      ]
     },
     "execution_count": 9,
     "metadata": {},
     "output_type": "execute_result"
    }
   ],
   "source": [
    "tensor(im3)[4:10,4:10]"
   ]
  },
  {
   "cell_type": "code",
   "execution_count": 10,
   "id": "a2348380",
   "metadata": {
    "execution": {
     "iopub.execute_input": "2023-04-22T19:43:42.289036Z",
     "iopub.status.busy": "2023-04-22T19:43:42.288751Z",
     "iopub.status.idle": "2023-04-22T19:43:42.579423Z",
     "shell.execute_reply": "2023-04-22T19:43:42.578393Z"
    },
    "papermill": {
     "duration": 0.301364,
     "end_time": "2023-04-22T19:43:42.582788",
     "exception": false,
     "start_time": "2023-04-22T19:43:42.281424",
     "status": "completed"
    },
    "tags": []
   },
   "outputs": [
    {
     "data": {
      "text/html": [
       "<style type=\"text/css\">\n",
       "#T_360e2_row0_col0, #T_360e2_row0_col1, #T_360e2_row0_col2, #T_360e2_row0_col3, #T_360e2_row0_col4, #T_360e2_row0_col5, #T_360e2_row0_col6, #T_360e2_row0_col7, #T_360e2_row0_col8, #T_360e2_row0_col9, #T_360e2_row0_col10, #T_360e2_row0_col11, #T_360e2_row0_col12, #T_360e2_row0_col13, #T_360e2_row0_col14, #T_360e2_row0_col15, #T_360e2_row0_col16, #T_360e2_row0_col17, #T_360e2_row0_col18, #T_360e2_row0_col19, #T_360e2_row0_col20, #T_360e2_row0_col21, #T_360e2_row0_col22, #T_360e2_row0_col23, #T_360e2_row0_col24, #T_360e2_row0_col25, #T_360e2_row0_col26, #T_360e2_row0_col27, #T_360e2_row1_col0, #T_360e2_row1_col1, #T_360e2_row1_col2, #T_360e2_row1_col3, #T_360e2_row1_col4, #T_360e2_row1_col5, #T_360e2_row1_col6, #T_360e2_row1_col7, #T_360e2_row1_col8, #T_360e2_row1_col9, #T_360e2_row1_col10, #T_360e2_row1_col11, #T_360e2_row1_col12, #T_360e2_row1_col13, #T_360e2_row1_col14, #T_360e2_row1_col15, #T_360e2_row1_col16, #T_360e2_row1_col17, #T_360e2_row1_col18, #T_360e2_row1_col19, #T_360e2_row1_col20, #T_360e2_row1_col21, #T_360e2_row1_col22, #T_360e2_row1_col23, #T_360e2_row1_col24, #T_360e2_row1_col25, #T_360e2_row1_col26, #T_360e2_row1_col27, #T_360e2_row2_col0, #T_360e2_row2_col1, #T_360e2_row2_col2, #T_360e2_row2_col3, #T_360e2_row2_col4, #T_360e2_row2_col5, #T_360e2_row2_col6, #T_360e2_row2_col7, #T_360e2_row2_col8, #T_360e2_row2_col9, #T_360e2_row2_col10, #T_360e2_row2_col11, #T_360e2_row2_col12, #T_360e2_row2_col13, #T_360e2_row2_col14, #T_360e2_row2_col15, #T_360e2_row2_col16, #T_360e2_row2_col17, #T_360e2_row2_col18, #T_360e2_row2_col19, #T_360e2_row2_col20, #T_360e2_row2_col21, #T_360e2_row2_col22, #T_360e2_row2_col23, #T_360e2_row2_col24, #T_360e2_row2_col25, #T_360e2_row2_col26, #T_360e2_row2_col27, #T_360e2_row3_col0, #T_360e2_row3_col1, #T_360e2_row3_col2, #T_360e2_row3_col3, #T_360e2_row3_col4, #T_360e2_row3_col5, #T_360e2_row3_col6, #T_360e2_row3_col7, #T_360e2_row3_col8, #T_360e2_row3_col9, #T_360e2_row3_col10, #T_360e2_row3_col11, #T_360e2_row3_col12, #T_360e2_row3_col13, #T_360e2_row3_col14, #T_360e2_row3_col15, #T_360e2_row3_col16, #T_360e2_row3_col17, #T_360e2_row3_col18, #T_360e2_row3_col19, #T_360e2_row3_col20, #T_360e2_row3_col21, #T_360e2_row3_col22, #T_360e2_row3_col23, #T_360e2_row3_col24, #T_360e2_row3_col25, #T_360e2_row3_col26, #T_360e2_row3_col27, #T_360e2_row4_col0, #T_360e2_row4_col1, #T_360e2_row4_col2, #T_360e2_row4_col3, #T_360e2_row4_col4, #T_360e2_row4_col5, #T_360e2_row4_col6, #T_360e2_row4_col7, #T_360e2_row4_col8, #T_360e2_row4_col9, #T_360e2_row4_col10, #T_360e2_row4_col11, #T_360e2_row4_col12, #T_360e2_row4_col13, #T_360e2_row4_col14, #T_360e2_row4_col15, #T_360e2_row4_col16, #T_360e2_row4_col17, #T_360e2_row4_col18, #T_360e2_row4_col19, #T_360e2_row4_col20, #T_360e2_row4_col21, #T_360e2_row4_col22, #T_360e2_row4_col23, #T_360e2_row4_col24, #T_360e2_row4_col25, #T_360e2_row4_col26, #T_360e2_row4_col27, #T_360e2_row5_col0, #T_360e2_row5_col1, #T_360e2_row5_col2, #T_360e2_row5_col3, #T_360e2_row5_col4, #T_360e2_row5_col5, #T_360e2_row5_col6, #T_360e2_row5_col7, #T_360e2_row5_col8, #T_360e2_row5_col19, #T_360e2_row5_col20, #T_360e2_row5_col21, #T_360e2_row5_col22, #T_360e2_row5_col23, #T_360e2_row5_col24, #T_360e2_row5_col25, #T_360e2_row5_col26, #T_360e2_row5_col27, #T_360e2_row6_col0, #T_360e2_row6_col1, #T_360e2_row6_col2, #T_360e2_row6_col3, #T_360e2_row6_col4, #T_360e2_row6_col5, #T_360e2_row6_col6, #T_360e2_row6_col19, #T_360e2_row6_col20, #T_360e2_row6_col21, #T_360e2_row6_col22, #T_360e2_row6_col23, #T_360e2_row6_col24, #T_360e2_row6_col25, #T_360e2_row6_col26, #T_360e2_row6_col27, #T_360e2_row7_col0, #T_360e2_row7_col1, #T_360e2_row7_col2, #T_360e2_row7_col3, #T_360e2_row7_col4, #T_360e2_row7_col19, #T_360e2_row7_col20, #T_360e2_row7_col21, #T_360e2_row7_col22, #T_360e2_row7_col23, #T_360e2_row7_col24, #T_360e2_row7_col25, #T_360e2_row7_col26, #T_360e2_row7_col27, #T_360e2_row8_col0, #T_360e2_row8_col1, #T_360e2_row8_col2, #T_360e2_row8_col3, #T_360e2_row8_col4, #T_360e2_row8_col10, #T_360e2_row8_col11, #T_360e2_row8_col12, #T_360e2_row8_col13, #T_360e2_row8_col14, #T_360e2_row8_col19, #T_360e2_row8_col20, #T_360e2_row8_col21, #T_360e2_row8_col22, #T_360e2_row8_col23, #T_360e2_row8_col24, #T_360e2_row8_col25, #T_360e2_row8_col26, #T_360e2_row8_col27, #T_360e2_row9_col0, #T_360e2_row9_col1, #T_360e2_row9_col2, #T_360e2_row9_col3, #T_360e2_row9_col4, #T_360e2_row9_col9, #T_360e2_row9_col10, #T_360e2_row9_col11, #T_360e2_row9_col12, #T_360e2_row9_col13, #T_360e2_row9_col19, #T_360e2_row9_col20, #T_360e2_row9_col21, #T_360e2_row9_col22, #T_360e2_row9_col23, #T_360e2_row9_col24, #T_360e2_row9_col25, #T_360e2_row9_col26, #T_360e2_row9_col27, #T_360e2_row10_col0, #T_360e2_row10_col1, #T_360e2_row10_col2, #T_360e2_row10_col3, #T_360e2_row10_col4, #T_360e2_row10_col5, #T_360e2_row10_col6, #T_360e2_row10_col7, #T_360e2_row10_col8, #T_360e2_row10_col9, #T_360e2_row10_col10, #T_360e2_row10_col11, #T_360e2_row10_col12, #T_360e2_row10_col13, #T_360e2_row10_col18, #T_360e2_row10_col19, #T_360e2_row10_col20, #T_360e2_row10_col21, #T_360e2_row10_col22, #T_360e2_row10_col23, #T_360e2_row10_col24, #T_360e2_row10_col25, #T_360e2_row10_col26, #T_360e2_row10_col27, #T_360e2_row11_col0, #T_360e2_row11_col1, #T_360e2_row11_col2, #T_360e2_row11_col3, #T_360e2_row11_col4, #T_360e2_row11_col5, #T_360e2_row11_col6, #T_360e2_row11_col7, #T_360e2_row11_col8, #T_360e2_row11_col9, #T_360e2_row11_col10, #T_360e2_row11_col17, #T_360e2_row11_col18, #T_360e2_row11_col19, #T_360e2_row11_col20, #T_360e2_row11_col21, #T_360e2_row11_col22, #T_360e2_row11_col23, #T_360e2_row11_col24, #T_360e2_row11_col25, #T_360e2_row11_col26, #T_360e2_row11_col27, #T_360e2_row12_col0, #T_360e2_row12_col1, #T_360e2_row12_col2, #T_360e2_row12_col3, #T_360e2_row12_col4, #T_360e2_row12_col5, #T_360e2_row12_col6, #T_360e2_row12_col7, #T_360e2_row12_col8, #T_360e2_row12_col17, #T_360e2_row12_col18, #T_360e2_row12_col19, #T_360e2_row12_col20, #T_360e2_row12_col21, #T_360e2_row12_col22, #T_360e2_row12_col23, #T_360e2_row12_col24, #T_360e2_row12_col25, #T_360e2_row12_col26, #T_360e2_row12_col27, #T_360e2_row13_col0, #T_360e2_row13_col1, #T_360e2_row13_col2, #T_360e2_row13_col3, #T_360e2_row13_col4, #T_360e2_row13_col5, #T_360e2_row13_col6, #T_360e2_row13_col7, #T_360e2_row13_col8, #T_360e2_row13_col20, #T_360e2_row13_col21, #T_360e2_row13_col22, #T_360e2_row13_col23, #T_360e2_row13_col24, #T_360e2_row13_col25, #T_360e2_row13_col26, #T_360e2_row13_col27, #T_360e2_row14_col0, #T_360e2_row14_col1, #T_360e2_row14_col2, #T_360e2_row14_col3, #T_360e2_row14_col4, #T_360e2_row14_col5, #T_360e2_row14_col6, #T_360e2_row14_col7, #T_360e2_row14_col8, #T_360e2_row14_col9, #T_360e2_row14_col10, #T_360e2_row14_col21, #T_360e2_row14_col22, #T_360e2_row14_col23, #T_360e2_row14_col24, #T_360e2_row14_col25, #T_360e2_row14_col26, #T_360e2_row14_col27, #T_360e2_row15_col0, #T_360e2_row15_col1, #T_360e2_row15_col2, #T_360e2_row15_col3, #T_360e2_row15_col4, #T_360e2_row15_col5, #T_360e2_row15_col6, #T_360e2_row15_col7, #T_360e2_row15_col8, #T_360e2_row15_col9, #T_360e2_row15_col10, #T_360e2_row15_col11, #T_360e2_row15_col12, #T_360e2_row15_col13, #T_360e2_row15_col21, #T_360e2_row15_col22, #T_360e2_row15_col23, #T_360e2_row15_col24, #T_360e2_row15_col25, #T_360e2_row15_col26, #T_360e2_row15_col27, #T_360e2_row16_col0, #T_360e2_row16_col1, #T_360e2_row16_col2, #T_360e2_row16_col3, #T_360e2_row16_col4, #T_360e2_row16_col5, #T_360e2_row16_col6, #T_360e2_row16_col7, #T_360e2_row16_col8, #T_360e2_row16_col9, #T_360e2_row16_col10, #T_360e2_row16_col11, #T_360e2_row16_col12, #T_360e2_row16_col13, #T_360e2_row16_col14, #T_360e2_row16_col15, #T_360e2_row16_col16, #T_360e2_row16_col21, #T_360e2_row16_col22, #T_360e2_row16_col23, #T_360e2_row16_col24, #T_360e2_row16_col25, #T_360e2_row16_col26, #T_360e2_row16_col27, #T_360e2_row17_col0, #T_360e2_row17_col1, #T_360e2_row17_col2, #T_360e2_row17_col3, #T_360e2_row17_col4, #T_360e2_row17_col5, #T_360e2_row17_col6, #T_360e2_row17_col7, #T_360e2_row17_col8, #T_360e2_row17_col9, #T_360e2_row17_col10, #T_360e2_row17_col11, #T_360e2_row17_col12, #T_360e2_row17_col13, #T_360e2_row17_col14, #T_360e2_row17_col15, #T_360e2_row17_col16, #T_360e2_row17_col21, #T_360e2_row17_col22, #T_360e2_row17_col23, #T_360e2_row17_col24, #T_360e2_row17_col25, #T_360e2_row17_col26, #T_360e2_row17_col27, #T_360e2_row18_col0, #T_360e2_row18_col1, #T_360e2_row18_col2, #T_360e2_row18_col3, #T_360e2_row18_col4, #T_360e2_row18_col5, #T_360e2_row18_col6, #T_360e2_row18_col7, #T_360e2_row18_col8, #T_360e2_row18_col9, #T_360e2_row18_col10, #T_360e2_row18_col11, #T_360e2_row18_col12, #T_360e2_row18_col13, #T_360e2_row18_col14, #T_360e2_row18_col15, #T_360e2_row18_col21, #T_360e2_row18_col22, #T_360e2_row18_col23, #T_360e2_row18_col24, #T_360e2_row18_col25, #T_360e2_row18_col26, #T_360e2_row18_col27, #T_360e2_row19_col0, #T_360e2_row19_col1, #T_360e2_row19_col2, #T_360e2_row19_col3, #T_360e2_row19_col4, #T_360e2_row19_col5, #T_360e2_row19_col6, #T_360e2_row19_col7, #T_360e2_row19_col8, #T_360e2_row19_col9, #T_360e2_row19_col10, #T_360e2_row19_col11, #T_360e2_row19_col12, #T_360e2_row19_col13, #T_360e2_row19_col14, #T_360e2_row19_col21, #T_360e2_row19_col22, #T_360e2_row19_col23, #T_360e2_row19_col24, #T_360e2_row19_col25, #T_360e2_row19_col26, #T_360e2_row19_col27, #T_360e2_row20_col0, #T_360e2_row20_col1, #T_360e2_row20_col2, #T_360e2_row20_col3, #T_360e2_row20_col4, #T_360e2_row20_col5, #T_360e2_row20_col6, #T_360e2_row20_col7, #T_360e2_row20_col8, #T_360e2_row20_col9, #T_360e2_row20_col10, #T_360e2_row20_col11, #T_360e2_row20_col12, #T_360e2_row20_col13, #T_360e2_row20_col20, #T_360e2_row20_col21, #T_360e2_row20_col22, #T_360e2_row20_col23, #T_360e2_row20_col24, #T_360e2_row20_col25, #T_360e2_row20_col26, #T_360e2_row20_col27, #T_360e2_row21_col0, #T_360e2_row21_col1, #T_360e2_row21_col2, #T_360e2_row21_col3, #T_360e2_row21_col4, #T_360e2_row21_col5, #T_360e2_row21_col6, #T_360e2_row21_col7, #T_360e2_row21_col8, #T_360e2_row21_col9, #T_360e2_row21_col10, #T_360e2_row21_col11, #T_360e2_row21_col19, #T_360e2_row21_col20, #T_360e2_row21_col21, #T_360e2_row21_col22, #T_360e2_row21_col23, #T_360e2_row21_col24, #T_360e2_row21_col25, #T_360e2_row21_col26, #T_360e2_row21_col27, #T_360e2_row22_col0, #T_360e2_row22_col1, #T_360e2_row22_col2, #T_360e2_row22_col3, #T_360e2_row22_col4, #T_360e2_row22_col5, #T_360e2_row22_col18, #T_360e2_row22_col19, #T_360e2_row22_col20, #T_360e2_row22_col21, #T_360e2_row22_col22, #T_360e2_row22_col23, #T_360e2_row22_col24, #T_360e2_row22_col25, #T_360e2_row22_col26, #T_360e2_row22_col27, #T_360e2_row23_col0, #T_360e2_row23_col1, #T_360e2_row23_col2, #T_360e2_row23_col3, #T_360e2_row23_col4, #T_360e2_row23_col5, #T_360e2_row23_col16, #T_360e2_row23_col17, #T_360e2_row23_col18, #T_360e2_row23_col19, #T_360e2_row23_col20, #T_360e2_row23_col21, #T_360e2_row23_col22, #T_360e2_row23_col23, #T_360e2_row23_col24, #T_360e2_row23_col25, #T_360e2_row23_col26, #T_360e2_row23_col27, #T_360e2_row24_col0, #T_360e2_row24_col1, #T_360e2_row24_col2, #T_360e2_row24_col3, #T_360e2_row24_col4, #T_360e2_row24_col5, #T_360e2_row24_col14, #T_360e2_row24_col15, #T_360e2_row24_col16, #T_360e2_row24_col17, #T_360e2_row24_col18, #T_360e2_row24_col19, #T_360e2_row24_col20, #T_360e2_row24_col21, #T_360e2_row24_col22, #T_360e2_row24_col23, #T_360e2_row24_col24, #T_360e2_row24_col25, #T_360e2_row24_col26, #T_360e2_row24_col27, #T_360e2_row25_col0, #T_360e2_row25_col1, #T_360e2_row25_col2, #T_360e2_row25_col3, #T_360e2_row25_col4, #T_360e2_row25_col5, #T_360e2_row25_col6, #T_360e2_row25_col7, #T_360e2_row25_col8, #T_360e2_row25_col9, #T_360e2_row25_col10, #T_360e2_row25_col11, #T_360e2_row25_col12, #T_360e2_row25_col13, #T_360e2_row25_col14, #T_360e2_row25_col15, #T_360e2_row25_col16, #T_360e2_row25_col17, #T_360e2_row25_col18, #T_360e2_row25_col19, #T_360e2_row25_col20, #T_360e2_row25_col21, #T_360e2_row25_col22, #T_360e2_row25_col23, #T_360e2_row25_col24, #T_360e2_row25_col25, #T_360e2_row25_col26, #T_360e2_row25_col27, #T_360e2_row26_col0, #T_360e2_row26_col1, #T_360e2_row26_col2, #T_360e2_row26_col3, #T_360e2_row26_col4, #T_360e2_row26_col5, #T_360e2_row26_col6, #T_360e2_row26_col7, #T_360e2_row26_col8, #T_360e2_row26_col9, #T_360e2_row26_col10, #T_360e2_row26_col11, #T_360e2_row26_col12, #T_360e2_row26_col13, #T_360e2_row26_col14, #T_360e2_row26_col15, #T_360e2_row26_col16, #T_360e2_row26_col17, #T_360e2_row26_col18, #T_360e2_row26_col19, #T_360e2_row26_col20, #T_360e2_row26_col21, #T_360e2_row26_col22, #T_360e2_row26_col23, #T_360e2_row26_col24, #T_360e2_row26_col25, #T_360e2_row26_col26, #T_360e2_row26_col27, #T_360e2_row27_col0, #T_360e2_row27_col1, #T_360e2_row27_col2, #T_360e2_row27_col3, #T_360e2_row27_col4, #T_360e2_row27_col5, #T_360e2_row27_col6, #T_360e2_row27_col7, #T_360e2_row27_col8, #T_360e2_row27_col9, #T_360e2_row27_col10, #T_360e2_row27_col11, #T_360e2_row27_col12, #T_360e2_row27_col13, #T_360e2_row27_col14, #T_360e2_row27_col15, #T_360e2_row27_col16, #T_360e2_row27_col17, #T_360e2_row27_col18, #T_360e2_row27_col19, #T_360e2_row27_col20, #T_360e2_row27_col21, #T_360e2_row27_col22, #T_360e2_row27_col23, #T_360e2_row27_col24, #T_360e2_row27_col25, #T_360e2_row27_col26, #T_360e2_row27_col27 {\n",
       "  font-size: 6pt;\n",
       "  background-color: #ffffff;\n",
       "  color: #000000;\n",
       "}\n",
       "#T_360e2_row5_col9, #T_360e2_row12_col16 {\n",
       "  font-size: 6pt;\n",
       "  background-color: #f1f1f1;\n",
       "  color: #000000;\n",
       "}\n",
       "#T_360e2_row5_col10, #T_360e2_row5_col17 {\n",
       "  font-size: 6pt;\n",
       "  background-color: #7c7c7c;\n",
       "  color: #f1f1f1;\n",
       "}\n",
       "#T_360e2_row5_col11 {\n",
       "  font-size: 6pt;\n",
       "  background-color: #4a4a4a;\n",
       "  color: #f1f1f1;\n",
       "}\n",
       "#T_360e2_row5_col12, #T_360e2_row5_col13, #T_360e2_row5_col14, #T_360e2_row6_col10, #T_360e2_row6_col11, #T_360e2_row6_col15, #T_360e2_row6_col16, #T_360e2_row6_col17, #T_360e2_row7_col8, #T_360e2_row7_col16, #T_360e2_row7_col17, #T_360e2_row8_col5, #T_360e2_row8_col6, #T_360e2_row8_col7, #T_360e2_row8_col16, #T_360e2_row8_col17, #T_360e2_row9_col16, #T_360e2_row10_col15, #T_360e2_row13_col15, #T_360e2_row14_col15, #T_360e2_row14_col16, #T_360e2_row14_col17, #T_360e2_row14_col18, #T_360e2_row15_col17, #T_360e2_row15_col18, #T_360e2_row15_col19, #T_360e2_row16_col18, #T_360e2_row16_col19, #T_360e2_row16_col20, #T_360e2_row17_col18, #T_360e2_row17_col19, #T_360e2_row18_col18, #T_360e2_row18_col19, #T_360e2_row19_col17, #T_360e2_row19_col18, #T_360e2_row20_col16, #T_360e2_row20_col17, #T_360e2_row21_col15, #T_360e2_row21_col16, #T_360e2_row23_col7, #T_360e2_row23_col8, #T_360e2_row23_col9, #T_360e2_row23_col10, #T_360e2_row23_col11, #T_360e2_row24_col7, #T_360e2_row24_col8, #T_360e2_row24_col9, #T_360e2_row24_col10, #T_360e2_row24_col11 {\n",
       "  font-size: 6pt;\n",
       "  background-color: #000000;\n",
       "  color: #f1f1f1;\n",
       "}\n",
       "#T_360e2_row5_col15 {\n",
       "  font-size: 6pt;\n",
       "  background-color: #606060;\n",
       "  color: #f1f1f1;\n",
       "}\n",
       "#T_360e2_row5_col16 {\n",
       "  font-size: 6pt;\n",
       "  background-color: #4d4d4d;\n",
       "  color: #f1f1f1;\n",
       "}\n",
       "#T_360e2_row5_col18 {\n",
       "  font-size: 6pt;\n",
       "  background-color: #bbbbbb;\n",
       "  color: #000000;\n",
       "}\n",
       "#T_360e2_row6_col7, #T_360e2_row8_col9 {\n",
       "  font-size: 6pt;\n",
       "  background-color: #e4e4e4;\n",
       "  color: #000000;\n",
       "}\n",
       "#T_360e2_row6_col8, #T_360e2_row12_col10 {\n",
       "  font-size: 6pt;\n",
       "  background-color: #6b6b6b;\n",
       "  color: #f1f1f1;\n",
       "}\n",
       "#T_360e2_row6_col9, #T_360e2_row9_col15 {\n",
       "  font-size: 6pt;\n",
       "  background-color: #222222;\n",
       "  color: #f1f1f1;\n",
       "}\n",
       "#T_360e2_row6_col12, #T_360e2_row6_col18, #T_360e2_row7_col18, #T_360e2_row21_col17 {\n",
       "  font-size: 6pt;\n",
       "  background-color: #171717;\n",
       "  color: #f1f1f1;\n",
       "}\n",
       "#T_360e2_row6_col13, #T_360e2_row7_col15 {\n",
       "  font-size: 6pt;\n",
       "  background-color: #4b4b4b;\n",
       "  color: #f1f1f1;\n",
       "}\n",
       "#T_360e2_row6_col14, #T_360e2_row11_col14, #T_360e2_row12_col12, #T_360e2_row12_col14, #T_360e2_row13_col12, #T_360e2_row13_col14, #T_360e2_row22_col14, #T_360e2_row23_col12 {\n",
       "  font-size: 6pt;\n",
       "  background-color: #010101;\n",
       "  color: #f1f1f1;\n",
       "}\n",
       "#T_360e2_row7_col5 {\n",
       "  font-size: 6pt;\n",
       "  background-color: #272727;\n",
       "  color: #f1f1f1;\n",
       "}\n",
       "#T_360e2_row7_col6 {\n",
       "  font-size: 6pt;\n",
       "  background-color: #0a0a0a;\n",
       "  color: #f1f1f1;\n",
       "}\n",
       "#T_360e2_row7_col7, #T_360e2_row18_col17 {\n",
       "  font-size: 6pt;\n",
       "  background-color: #050505;\n",
       "  color: #f1f1f1;\n",
       "}\n",
       "#T_360e2_row7_col9, #T_360e2_row12_col15, #T_360e2_row14_col19, #T_360e2_row23_col6 {\n",
       "  font-size: 6pt;\n",
       "  background-color: #545454;\n",
       "  color: #f1f1f1;\n",
       "}\n",
       "#T_360e2_row7_col10 {\n",
       "  font-size: 6pt;\n",
       "  background-color: #e6e6e6;\n",
       "  color: #000000;\n",
       "}\n",
       "#T_360e2_row7_col11, #T_360e2_row7_col14, #T_360e2_row12_col9 {\n",
       "  font-size: 6pt;\n",
       "  background-color: #fafafa;\n",
       "  color: #000000;\n",
       "}\n",
       "#T_360e2_row7_col12, #T_360e2_row15_col14, #T_360e2_row20_col19 {\n",
       "  font-size: 6pt;\n",
       "  background-color: #fbfbfb;\n",
       "  color: #000000;\n",
       "}\n",
       "#T_360e2_row7_col13 {\n",
       "  font-size: 6pt;\n",
       "  background-color: #fdfdfd;\n",
       "  color: #000000;\n",
       "}\n",
       "#T_360e2_row8_col8 {\n",
       "  font-size: 6pt;\n",
       "  background-color: #1b1b1b;\n",
       "  color: #f1f1f1;\n",
       "}\n",
       "#T_360e2_row8_col15 {\n",
       "  font-size: 6pt;\n",
       "  background-color: #4e4e4e;\n",
       "  color: #f1f1f1;\n",
       "}\n",
       "#T_360e2_row8_col18 {\n",
       "  font-size: 6pt;\n",
       "  background-color: #767676;\n",
       "  color: #f1f1f1;\n",
       "}\n",
       "#T_360e2_row9_col5 {\n",
       "  font-size: 6pt;\n",
       "  background-color: #fcfcfc;\n",
       "  color: #000000;\n",
       "}\n",
       "#T_360e2_row9_col6, #T_360e2_row9_col7, #T_360e2_row19_col20 {\n",
       "  font-size: 6pt;\n",
       "  background-color: #f6f6f6;\n",
       "  color: #000000;\n",
       "}\n",
       "#T_360e2_row9_col8, #T_360e2_row11_col11 {\n",
       "  font-size: 6pt;\n",
       "  background-color: #f8f8f8;\n",
       "  color: #000000;\n",
       "}\n",
       "#T_360e2_row9_col14, #T_360e2_row14_col11 {\n",
       "  font-size: 6pt;\n",
       "  background-color: #e8e8e8;\n",
       "  color: #000000;\n",
       "}\n",
       "#T_360e2_row9_col17, #T_360e2_row10_col16 {\n",
       "  font-size: 6pt;\n",
       "  background-color: #090909;\n",
       "  color: #f1f1f1;\n",
       "}\n",
       "#T_360e2_row9_col18 {\n",
       "  font-size: 6pt;\n",
       "  background-color: #d0d0d0;\n",
       "  color: #000000;\n",
       "}\n",
       "#T_360e2_row10_col14, #T_360e2_row11_col15, #T_360e2_row13_col10 {\n",
       "  font-size: 6pt;\n",
       "  background-color: #060606;\n",
       "  color: #f1f1f1;\n",
       "}\n",
       "#T_360e2_row10_col17 {\n",
       "  font-size: 6pt;\n",
       "  background-color: #979797;\n",
       "  color: #f1f1f1;\n",
       "}\n",
       "#T_360e2_row11_col12 {\n",
       "  font-size: 6pt;\n",
       "  background-color: #b6b6b6;\n",
       "  color: #000000;\n",
       "}\n",
       "#T_360e2_row11_col13 {\n",
       "  font-size: 6pt;\n",
       "  background-color: #252525;\n",
       "  color: #f1f1f1;\n",
       "}\n",
       "#T_360e2_row11_col16 {\n",
       "  font-size: 6pt;\n",
       "  background-color: #999999;\n",
       "  color: #f1f1f1;\n",
       "}\n",
       "#T_360e2_row12_col11, #T_360e2_row22_col12 {\n",
       "  font-size: 6pt;\n",
       "  background-color: #101010;\n",
       "  color: #f1f1f1;\n",
       "}\n",
       "#T_360e2_row12_col13, #T_360e2_row13_col13, #T_360e2_row21_col14, #T_360e2_row22_col13, #T_360e2_row23_col13 {\n",
       "  font-size: 6pt;\n",
       "  background-color: #020202;\n",
       "  color: #f1f1f1;\n",
       "}\n",
       "#T_360e2_row13_col9 {\n",
       "  font-size: 6pt;\n",
       "  background-color: #f7f7f7;\n",
       "  color: #000000;\n",
       "}\n",
       "#T_360e2_row13_col11, #T_360e2_row22_col15 {\n",
       "  font-size: 6pt;\n",
       "  background-color: #030303;\n",
       "  color: #f1f1f1;\n",
       "}\n",
       "#T_360e2_row13_col16 {\n",
       "  font-size: 6pt;\n",
       "  background-color: #181818;\n",
       "  color: #f1f1f1;\n",
       "}\n",
       "#T_360e2_row13_col17 {\n",
       "  font-size: 6pt;\n",
       "  background-color: #303030;\n",
       "  color: #f1f1f1;\n",
       "}\n",
       "#T_360e2_row13_col18 {\n",
       "  font-size: 6pt;\n",
       "  background-color: #a9a9a9;\n",
       "  color: #f1f1f1;\n",
       "}\n",
       "#T_360e2_row13_col19 {\n",
       "  font-size: 6pt;\n",
       "  background-color: #fefefe;\n",
       "  color: #000000;\n",
       "}\n",
       "#T_360e2_row14_col12, #T_360e2_row14_col13, #T_360e2_row20_col14 {\n",
       "  font-size: 6pt;\n",
       "  background-color: #bababa;\n",
       "  color: #000000;\n",
       "}\n",
       "#T_360e2_row14_col14 {\n",
       "  font-size: 6pt;\n",
       "  background-color: #393939;\n",
       "  color: #f1f1f1;\n",
       "}\n",
       "#T_360e2_row14_col20 {\n",
       "  font-size: 6pt;\n",
       "  background-color: #eaeaea;\n",
       "  color: #000000;\n",
       "}\n",
       "#T_360e2_row15_col15 {\n",
       "  font-size: 6pt;\n",
       "  background-color: #e2e2e2;\n",
       "  color: #000000;\n",
       "}\n",
       "#T_360e2_row15_col16 {\n",
       "  font-size: 6pt;\n",
       "  background-color: #9f9f9f;\n",
       "  color: #f1f1f1;\n",
       "}\n",
       "#T_360e2_row15_col20 {\n",
       "  font-size: 6pt;\n",
       "  background-color: #898989;\n",
       "  color: #f1f1f1;\n",
       "}\n",
       "#T_360e2_row16_col17 {\n",
       "  font-size: 6pt;\n",
       "  background-color: #585858;\n",
       "  color: #f1f1f1;\n",
       "}\n",
       "#T_360e2_row17_col17 {\n",
       "  font-size: 6pt;\n",
       "  background-color: #5a5a5a;\n",
       "  color: #f1f1f1;\n",
       "}\n",
       "#T_360e2_row17_col20 {\n",
       "  font-size: 6pt;\n",
       "  background-color: #525252;\n",
       "  color: #f1f1f1;\n",
       "}\n",
       "#T_360e2_row18_col16, #T_360e2_row23_col15 {\n",
       "  font-size: 6pt;\n",
       "  background-color: #c5c5c5;\n",
       "  color: #000000;\n",
       "}\n",
       "#T_360e2_row18_col20 {\n",
       "  font-size: 6pt;\n",
       "  background-color: #d7d7d7;\n",
       "  color: #000000;\n",
       "}\n",
       "#T_360e2_row19_col15, #T_360e2_row22_col9 {\n",
       "  font-size: 6pt;\n",
       "  background-color: #dcdcdc;\n",
       "  color: #000000;\n",
       "}\n",
       "#T_360e2_row19_col16 {\n",
       "  font-size: 6pt;\n",
       "  background-color: #2f2f2f;\n",
       "  color: #f1f1f1;\n",
       "}\n",
       "#T_360e2_row19_col19 {\n",
       "  font-size: 6pt;\n",
       "  background-color: #636363;\n",
       "  color: #f1f1f1;\n",
       "}\n",
       "#T_360e2_row20_col15 {\n",
       "  font-size: 6pt;\n",
       "  background-color: #070707;\n",
       "  color: #f1f1f1;\n",
       "}\n",
       "#T_360e2_row20_col18 {\n",
       "  font-size: 6pt;\n",
       "  background-color: #1f1f1f;\n",
       "  color: #f1f1f1;\n",
       "}\n",
       "#T_360e2_row21_col12, #T_360e2_row22_col6, #T_360e2_row22_col8 {\n",
       "  font-size: 6pt;\n",
       "  background-color: #e9e9e9;\n",
       "  color: #000000;\n",
       "}\n",
       "#T_360e2_row21_col13 {\n",
       "  font-size: 6pt;\n",
       "  background-color: #7d7d7d;\n",
       "  color: #f1f1f1;\n",
       "}\n",
       "#T_360e2_row21_col18 {\n",
       "  font-size: 6pt;\n",
       "  background-color: #e1e1e1;\n",
       "  color: #000000;\n",
       "}\n",
       "#T_360e2_row22_col7, #T_360e2_row22_col10 {\n",
       "  font-size: 6pt;\n",
       "  background-color: #a4a4a4;\n",
       "  color: #f1f1f1;\n",
       "}\n",
       "#T_360e2_row22_col11 {\n",
       "  font-size: 6pt;\n",
       "  background-color: #727272;\n",
       "  color: #f1f1f1;\n",
       "}\n",
       "#T_360e2_row22_col16 {\n",
       "  font-size: 6pt;\n",
       "  background-color: #616161;\n",
       "  color: #f1f1f1;\n",
       "}\n",
       "#T_360e2_row22_col17 {\n",
       "  font-size: 6pt;\n",
       "  background-color: #f3f3f3;\n",
       "  color: #000000;\n",
       "}\n",
       "#T_360e2_row23_col14 {\n",
       "  font-size: 6pt;\n",
       "  background-color: #484848;\n",
       "  color: #f1f1f1;\n",
       "}\n",
       "#T_360e2_row24_col6 {\n",
       "  font-size: 6pt;\n",
       "  background-color: #b3b3b3;\n",
       "  color: #000000;\n",
       "}\n",
       "#T_360e2_row24_col12 {\n",
       "  font-size: 6pt;\n",
       "  background-color: #1a1a1a;\n",
       "  color: #f1f1f1;\n",
       "}\n",
       "#T_360e2_row24_col13 {\n",
       "  font-size: 6pt;\n",
       "  background-color: #d6d6d6;\n",
       "  color: #000000;\n",
       "}\n",
       "</style>\n",
       "<table id=\"T_360e2_\">\n",
       "  <thead>\n",
       "    <tr>\n",
       "      <th class=\"blank level0\" >&nbsp;</th>\n",
       "      <th class=\"col_heading level0 col0\" >0</th>\n",
       "      <th class=\"col_heading level0 col1\" >1</th>\n",
       "      <th class=\"col_heading level0 col2\" >2</th>\n",
       "      <th class=\"col_heading level0 col3\" >3</th>\n",
       "      <th class=\"col_heading level0 col4\" >4</th>\n",
       "      <th class=\"col_heading level0 col5\" >5</th>\n",
       "      <th class=\"col_heading level0 col6\" >6</th>\n",
       "      <th class=\"col_heading level0 col7\" >7</th>\n",
       "      <th class=\"col_heading level0 col8\" >8</th>\n",
       "      <th class=\"col_heading level0 col9\" >9</th>\n",
       "      <th class=\"col_heading level0 col10\" >10</th>\n",
       "      <th class=\"col_heading level0 col11\" >11</th>\n",
       "      <th class=\"col_heading level0 col12\" >12</th>\n",
       "      <th class=\"col_heading level0 col13\" >13</th>\n",
       "      <th class=\"col_heading level0 col14\" >14</th>\n",
       "      <th class=\"col_heading level0 col15\" >15</th>\n",
       "      <th class=\"col_heading level0 col16\" >16</th>\n",
       "      <th class=\"col_heading level0 col17\" >17</th>\n",
       "      <th class=\"col_heading level0 col18\" >18</th>\n",
       "      <th class=\"col_heading level0 col19\" >19</th>\n",
       "      <th class=\"col_heading level0 col20\" >20</th>\n",
       "      <th class=\"col_heading level0 col21\" >21</th>\n",
       "      <th class=\"col_heading level0 col22\" >22</th>\n",
       "      <th class=\"col_heading level0 col23\" >23</th>\n",
       "      <th class=\"col_heading level0 col24\" >24</th>\n",
       "      <th class=\"col_heading level0 col25\" >25</th>\n",
       "      <th class=\"col_heading level0 col26\" >26</th>\n",
       "      <th class=\"col_heading level0 col27\" >27</th>\n",
       "    </tr>\n",
       "  </thead>\n",
       "  <tbody>\n",
       "    <tr>\n",
       "      <th id=\"T_360e2_level0_row0\" class=\"row_heading level0 row0\" >0</th>\n",
       "      <td id=\"T_360e2_row0_col0\" class=\"data row0 col0\" >0</td>\n",
       "      <td id=\"T_360e2_row0_col1\" class=\"data row0 col1\" >0</td>\n",
       "      <td id=\"T_360e2_row0_col2\" class=\"data row0 col2\" >0</td>\n",
       "      <td id=\"T_360e2_row0_col3\" class=\"data row0 col3\" >0</td>\n",
       "      <td id=\"T_360e2_row0_col4\" class=\"data row0 col4\" >0</td>\n",
       "      <td id=\"T_360e2_row0_col5\" class=\"data row0 col5\" >0</td>\n",
       "      <td id=\"T_360e2_row0_col6\" class=\"data row0 col6\" >0</td>\n",
       "      <td id=\"T_360e2_row0_col7\" class=\"data row0 col7\" >0</td>\n",
       "      <td id=\"T_360e2_row0_col8\" class=\"data row0 col8\" >0</td>\n",
       "      <td id=\"T_360e2_row0_col9\" class=\"data row0 col9\" >0</td>\n",
       "      <td id=\"T_360e2_row0_col10\" class=\"data row0 col10\" >0</td>\n",
       "      <td id=\"T_360e2_row0_col11\" class=\"data row0 col11\" >0</td>\n",
       "      <td id=\"T_360e2_row0_col12\" class=\"data row0 col12\" >0</td>\n",
       "      <td id=\"T_360e2_row0_col13\" class=\"data row0 col13\" >0</td>\n",
       "      <td id=\"T_360e2_row0_col14\" class=\"data row0 col14\" >0</td>\n",
       "      <td id=\"T_360e2_row0_col15\" class=\"data row0 col15\" >0</td>\n",
       "      <td id=\"T_360e2_row0_col16\" class=\"data row0 col16\" >0</td>\n",
       "      <td id=\"T_360e2_row0_col17\" class=\"data row0 col17\" >0</td>\n",
       "      <td id=\"T_360e2_row0_col18\" class=\"data row0 col18\" >0</td>\n",
       "      <td id=\"T_360e2_row0_col19\" class=\"data row0 col19\" >0</td>\n",
       "      <td id=\"T_360e2_row0_col20\" class=\"data row0 col20\" >0</td>\n",
       "      <td id=\"T_360e2_row0_col21\" class=\"data row0 col21\" >0</td>\n",
       "      <td id=\"T_360e2_row0_col22\" class=\"data row0 col22\" >0</td>\n",
       "      <td id=\"T_360e2_row0_col23\" class=\"data row0 col23\" >0</td>\n",
       "      <td id=\"T_360e2_row0_col24\" class=\"data row0 col24\" >0</td>\n",
       "      <td id=\"T_360e2_row0_col25\" class=\"data row0 col25\" >0</td>\n",
       "      <td id=\"T_360e2_row0_col26\" class=\"data row0 col26\" >0</td>\n",
       "      <td id=\"T_360e2_row0_col27\" class=\"data row0 col27\" >0</td>\n",
       "    </tr>\n",
       "    <tr>\n",
       "      <th id=\"T_360e2_level0_row1\" class=\"row_heading level0 row1\" >1</th>\n",
       "      <td id=\"T_360e2_row1_col0\" class=\"data row1 col0\" >0</td>\n",
       "      <td id=\"T_360e2_row1_col1\" class=\"data row1 col1\" >0</td>\n",
       "      <td id=\"T_360e2_row1_col2\" class=\"data row1 col2\" >0</td>\n",
       "      <td id=\"T_360e2_row1_col3\" class=\"data row1 col3\" >0</td>\n",
       "      <td id=\"T_360e2_row1_col4\" class=\"data row1 col4\" >0</td>\n",
       "      <td id=\"T_360e2_row1_col5\" class=\"data row1 col5\" >0</td>\n",
       "      <td id=\"T_360e2_row1_col6\" class=\"data row1 col6\" >0</td>\n",
       "      <td id=\"T_360e2_row1_col7\" class=\"data row1 col7\" >0</td>\n",
       "      <td id=\"T_360e2_row1_col8\" class=\"data row1 col8\" >0</td>\n",
       "      <td id=\"T_360e2_row1_col9\" class=\"data row1 col9\" >0</td>\n",
       "      <td id=\"T_360e2_row1_col10\" class=\"data row1 col10\" >0</td>\n",
       "      <td id=\"T_360e2_row1_col11\" class=\"data row1 col11\" >0</td>\n",
       "      <td id=\"T_360e2_row1_col12\" class=\"data row1 col12\" >0</td>\n",
       "      <td id=\"T_360e2_row1_col13\" class=\"data row1 col13\" >0</td>\n",
       "      <td id=\"T_360e2_row1_col14\" class=\"data row1 col14\" >0</td>\n",
       "      <td id=\"T_360e2_row1_col15\" class=\"data row1 col15\" >0</td>\n",
       "      <td id=\"T_360e2_row1_col16\" class=\"data row1 col16\" >0</td>\n",
       "      <td id=\"T_360e2_row1_col17\" class=\"data row1 col17\" >0</td>\n",
       "      <td id=\"T_360e2_row1_col18\" class=\"data row1 col18\" >0</td>\n",
       "      <td id=\"T_360e2_row1_col19\" class=\"data row1 col19\" >0</td>\n",
       "      <td id=\"T_360e2_row1_col20\" class=\"data row1 col20\" >0</td>\n",
       "      <td id=\"T_360e2_row1_col21\" class=\"data row1 col21\" >0</td>\n",
       "      <td id=\"T_360e2_row1_col22\" class=\"data row1 col22\" >0</td>\n",
       "      <td id=\"T_360e2_row1_col23\" class=\"data row1 col23\" >0</td>\n",
       "      <td id=\"T_360e2_row1_col24\" class=\"data row1 col24\" >0</td>\n",
       "      <td id=\"T_360e2_row1_col25\" class=\"data row1 col25\" >0</td>\n",
       "      <td id=\"T_360e2_row1_col26\" class=\"data row1 col26\" >0</td>\n",
       "      <td id=\"T_360e2_row1_col27\" class=\"data row1 col27\" >0</td>\n",
       "    </tr>\n",
       "    <tr>\n",
       "      <th id=\"T_360e2_level0_row2\" class=\"row_heading level0 row2\" >2</th>\n",
       "      <td id=\"T_360e2_row2_col0\" class=\"data row2 col0\" >0</td>\n",
       "      <td id=\"T_360e2_row2_col1\" class=\"data row2 col1\" >0</td>\n",
       "      <td id=\"T_360e2_row2_col2\" class=\"data row2 col2\" >0</td>\n",
       "      <td id=\"T_360e2_row2_col3\" class=\"data row2 col3\" >0</td>\n",
       "      <td id=\"T_360e2_row2_col4\" class=\"data row2 col4\" >0</td>\n",
       "      <td id=\"T_360e2_row2_col5\" class=\"data row2 col5\" >0</td>\n",
       "      <td id=\"T_360e2_row2_col6\" class=\"data row2 col6\" >0</td>\n",
       "      <td id=\"T_360e2_row2_col7\" class=\"data row2 col7\" >0</td>\n",
       "      <td id=\"T_360e2_row2_col8\" class=\"data row2 col8\" >0</td>\n",
       "      <td id=\"T_360e2_row2_col9\" class=\"data row2 col9\" >0</td>\n",
       "      <td id=\"T_360e2_row2_col10\" class=\"data row2 col10\" >0</td>\n",
       "      <td id=\"T_360e2_row2_col11\" class=\"data row2 col11\" >0</td>\n",
       "      <td id=\"T_360e2_row2_col12\" class=\"data row2 col12\" >0</td>\n",
       "      <td id=\"T_360e2_row2_col13\" class=\"data row2 col13\" >0</td>\n",
       "      <td id=\"T_360e2_row2_col14\" class=\"data row2 col14\" >0</td>\n",
       "      <td id=\"T_360e2_row2_col15\" class=\"data row2 col15\" >0</td>\n",
       "      <td id=\"T_360e2_row2_col16\" class=\"data row2 col16\" >0</td>\n",
       "      <td id=\"T_360e2_row2_col17\" class=\"data row2 col17\" >0</td>\n",
       "      <td id=\"T_360e2_row2_col18\" class=\"data row2 col18\" >0</td>\n",
       "      <td id=\"T_360e2_row2_col19\" class=\"data row2 col19\" >0</td>\n",
       "      <td id=\"T_360e2_row2_col20\" class=\"data row2 col20\" >0</td>\n",
       "      <td id=\"T_360e2_row2_col21\" class=\"data row2 col21\" >0</td>\n",
       "      <td id=\"T_360e2_row2_col22\" class=\"data row2 col22\" >0</td>\n",
       "      <td id=\"T_360e2_row2_col23\" class=\"data row2 col23\" >0</td>\n",
       "      <td id=\"T_360e2_row2_col24\" class=\"data row2 col24\" >0</td>\n",
       "      <td id=\"T_360e2_row2_col25\" class=\"data row2 col25\" >0</td>\n",
       "      <td id=\"T_360e2_row2_col26\" class=\"data row2 col26\" >0</td>\n",
       "      <td id=\"T_360e2_row2_col27\" class=\"data row2 col27\" >0</td>\n",
       "    </tr>\n",
       "    <tr>\n",
       "      <th id=\"T_360e2_level0_row3\" class=\"row_heading level0 row3\" >3</th>\n",
       "      <td id=\"T_360e2_row3_col0\" class=\"data row3 col0\" >0</td>\n",
       "      <td id=\"T_360e2_row3_col1\" class=\"data row3 col1\" >0</td>\n",
       "      <td id=\"T_360e2_row3_col2\" class=\"data row3 col2\" >0</td>\n",
       "      <td id=\"T_360e2_row3_col3\" class=\"data row3 col3\" >0</td>\n",
       "      <td id=\"T_360e2_row3_col4\" class=\"data row3 col4\" >0</td>\n",
       "      <td id=\"T_360e2_row3_col5\" class=\"data row3 col5\" >0</td>\n",
       "      <td id=\"T_360e2_row3_col6\" class=\"data row3 col6\" >0</td>\n",
       "      <td id=\"T_360e2_row3_col7\" class=\"data row3 col7\" >0</td>\n",
       "      <td id=\"T_360e2_row3_col8\" class=\"data row3 col8\" >0</td>\n",
       "      <td id=\"T_360e2_row3_col9\" class=\"data row3 col9\" >0</td>\n",
       "      <td id=\"T_360e2_row3_col10\" class=\"data row3 col10\" >0</td>\n",
       "      <td id=\"T_360e2_row3_col11\" class=\"data row3 col11\" >0</td>\n",
       "      <td id=\"T_360e2_row3_col12\" class=\"data row3 col12\" >0</td>\n",
       "      <td id=\"T_360e2_row3_col13\" class=\"data row3 col13\" >0</td>\n",
       "      <td id=\"T_360e2_row3_col14\" class=\"data row3 col14\" >0</td>\n",
       "      <td id=\"T_360e2_row3_col15\" class=\"data row3 col15\" >0</td>\n",
       "      <td id=\"T_360e2_row3_col16\" class=\"data row3 col16\" >0</td>\n",
       "      <td id=\"T_360e2_row3_col17\" class=\"data row3 col17\" >0</td>\n",
       "      <td id=\"T_360e2_row3_col18\" class=\"data row3 col18\" >0</td>\n",
       "      <td id=\"T_360e2_row3_col19\" class=\"data row3 col19\" >0</td>\n",
       "      <td id=\"T_360e2_row3_col20\" class=\"data row3 col20\" >0</td>\n",
       "      <td id=\"T_360e2_row3_col21\" class=\"data row3 col21\" >0</td>\n",
       "      <td id=\"T_360e2_row3_col22\" class=\"data row3 col22\" >0</td>\n",
       "      <td id=\"T_360e2_row3_col23\" class=\"data row3 col23\" >0</td>\n",
       "      <td id=\"T_360e2_row3_col24\" class=\"data row3 col24\" >0</td>\n",
       "      <td id=\"T_360e2_row3_col25\" class=\"data row3 col25\" >0</td>\n",
       "      <td id=\"T_360e2_row3_col26\" class=\"data row3 col26\" >0</td>\n",
       "      <td id=\"T_360e2_row3_col27\" class=\"data row3 col27\" >0</td>\n",
       "    </tr>\n",
       "    <tr>\n",
       "      <th id=\"T_360e2_level0_row4\" class=\"row_heading level0 row4\" >4</th>\n",
       "      <td id=\"T_360e2_row4_col0\" class=\"data row4 col0\" >0</td>\n",
       "      <td id=\"T_360e2_row4_col1\" class=\"data row4 col1\" >0</td>\n",
       "      <td id=\"T_360e2_row4_col2\" class=\"data row4 col2\" >0</td>\n",
       "      <td id=\"T_360e2_row4_col3\" class=\"data row4 col3\" >0</td>\n",
       "      <td id=\"T_360e2_row4_col4\" class=\"data row4 col4\" >0</td>\n",
       "      <td id=\"T_360e2_row4_col5\" class=\"data row4 col5\" >0</td>\n",
       "      <td id=\"T_360e2_row4_col6\" class=\"data row4 col6\" >0</td>\n",
       "      <td id=\"T_360e2_row4_col7\" class=\"data row4 col7\" >0</td>\n",
       "      <td id=\"T_360e2_row4_col8\" class=\"data row4 col8\" >0</td>\n",
       "      <td id=\"T_360e2_row4_col9\" class=\"data row4 col9\" >0</td>\n",
       "      <td id=\"T_360e2_row4_col10\" class=\"data row4 col10\" >0</td>\n",
       "      <td id=\"T_360e2_row4_col11\" class=\"data row4 col11\" >0</td>\n",
       "      <td id=\"T_360e2_row4_col12\" class=\"data row4 col12\" >0</td>\n",
       "      <td id=\"T_360e2_row4_col13\" class=\"data row4 col13\" >0</td>\n",
       "      <td id=\"T_360e2_row4_col14\" class=\"data row4 col14\" >0</td>\n",
       "      <td id=\"T_360e2_row4_col15\" class=\"data row4 col15\" >0</td>\n",
       "      <td id=\"T_360e2_row4_col16\" class=\"data row4 col16\" >0</td>\n",
       "      <td id=\"T_360e2_row4_col17\" class=\"data row4 col17\" >0</td>\n",
       "      <td id=\"T_360e2_row4_col18\" class=\"data row4 col18\" >0</td>\n",
       "      <td id=\"T_360e2_row4_col19\" class=\"data row4 col19\" >0</td>\n",
       "      <td id=\"T_360e2_row4_col20\" class=\"data row4 col20\" >0</td>\n",
       "      <td id=\"T_360e2_row4_col21\" class=\"data row4 col21\" >0</td>\n",
       "      <td id=\"T_360e2_row4_col22\" class=\"data row4 col22\" >0</td>\n",
       "      <td id=\"T_360e2_row4_col23\" class=\"data row4 col23\" >0</td>\n",
       "      <td id=\"T_360e2_row4_col24\" class=\"data row4 col24\" >0</td>\n",
       "      <td id=\"T_360e2_row4_col25\" class=\"data row4 col25\" >0</td>\n",
       "      <td id=\"T_360e2_row4_col26\" class=\"data row4 col26\" >0</td>\n",
       "      <td id=\"T_360e2_row4_col27\" class=\"data row4 col27\" >0</td>\n",
       "    </tr>\n",
       "    <tr>\n",
       "      <th id=\"T_360e2_level0_row5\" class=\"row_heading level0 row5\" >5</th>\n",
       "      <td id=\"T_360e2_row5_col0\" class=\"data row5 col0\" >0</td>\n",
       "      <td id=\"T_360e2_row5_col1\" class=\"data row5 col1\" >0</td>\n",
       "      <td id=\"T_360e2_row5_col2\" class=\"data row5 col2\" >0</td>\n",
       "      <td id=\"T_360e2_row5_col3\" class=\"data row5 col3\" >0</td>\n",
       "      <td id=\"T_360e2_row5_col4\" class=\"data row5 col4\" >0</td>\n",
       "      <td id=\"T_360e2_row5_col5\" class=\"data row5 col5\" >0</td>\n",
       "      <td id=\"T_360e2_row5_col6\" class=\"data row5 col6\" >0</td>\n",
       "      <td id=\"T_360e2_row5_col7\" class=\"data row5 col7\" >0</td>\n",
       "      <td id=\"T_360e2_row5_col8\" class=\"data row5 col8\" >0</td>\n",
       "      <td id=\"T_360e2_row5_col9\" class=\"data row5 col9\" >29</td>\n",
       "      <td id=\"T_360e2_row5_col10\" class=\"data row5 col10\" >150</td>\n",
       "      <td id=\"T_360e2_row5_col11\" class=\"data row5 col11\" >195</td>\n",
       "      <td id=\"T_360e2_row5_col12\" class=\"data row5 col12\" >254</td>\n",
       "      <td id=\"T_360e2_row5_col13\" class=\"data row5 col13\" >255</td>\n",
       "      <td id=\"T_360e2_row5_col14\" class=\"data row5 col14\" >254</td>\n",
       "      <td id=\"T_360e2_row5_col15\" class=\"data row5 col15\" >176</td>\n",
       "      <td id=\"T_360e2_row5_col16\" class=\"data row5 col16\" >193</td>\n",
       "      <td id=\"T_360e2_row5_col17\" class=\"data row5 col17\" >150</td>\n",
       "      <td id=\"T_360e2_row5_col18\" class=\"data row5 col18\" >96</td>\n",
       "      <td id=\"T_360e2_row5_col19\" class=\"data row5 col19\" >0</td>\n",
       "      <td id=\"T_360e2_row5_col20\" class=\"data row5 col20\" >0</td>\n",
       "      <td id=\"T_360e2_row5_col21\" class=\"data row5 col21\" >0</td>\n",
       "      <td id=\"T_360e2_row5_col22\" class=\"data row5 col22\" >0</td>\n",
       "      <td id=\"T_360e2_row5_col23\" class=\"data row5 col23\" >0</td>\n",
       "      <td id=\"T_360e2_row5_col24\" class=\"data row5 col24\" >0</td>\n",
       "      <td id=\"T_360e2_row5_col25\" class=\"data row5 col25\" >0</td>\n",
       "      <td id=\"T_360e2_row5_col26\" class=\"data row5 col26\" >0</td>\n",
       "      <td id=\"T_360e2_row5_col27\" class=\"data row5 col27\" >0</td>\n",
       "    </tr>\n",
       "    <tr>\n",
       "      <th id=\"T_360e2_level0_row6\" class=\"row_heading level0 row6\" >6</th>\n",
       "      <td id=\"T_360e2_row6_col0\" class=\"data row6 col0\" >0</td>\n",
       "      <td id=\"T_360e2_row6_col1\" class=\"data row6 col1\" >0</td>\n",
       "      <td id=\"T_360e2_row6_col2\" class=\"data row6 col2\" >0</td>\n",
       "      <td id=\"T_360e2_row6_col3\" class=\"data row6 col3\" >0</td>\n",
       "      <td id=\"T_360e2_row6_col4\" class=\"data row6 col4\" >0</td>\n",
       "      <td id=\"T_360e2_row6_col5\" class=\"data row6 col5\" >0</td>\n",
       "      <td id=\"T_360e2_row6_col6\" class=\"data row6 col6\" >0</td>\n",
       "      <td id=\"T_360e2_row6_col7\" class=\"data row6 col7\" >48</td>\n",
       "      <td id=\"T_360e2_row6_col8\" class=\"data row6 col8\" >166</td>\n",
       "      <td id=\"T_360e2_row6_col9\" class=\"data row6 col9\" >224</td>\n",
       "      <td id=\"T_360e2_row6_col10\" class=\"data row6 col10\" >253</td>\n",
       "      <td id=\"T_360e2_row6_col11\" class=\"data row6 col11\" >253</td>\n",
       "      <td id=\"T_360e2_row6_col12\" class=\"data row6 col12\" >234</td>\n",
       "      <td id=\"T_360e2_row6_col13\" class=\"data row6 col13\" >196</td>\n",
       "      <td id=\"T_360e2_row6_col14\" class=\"data row6 col14\" >253</td>\n",
       "      <td id=\"T_360e2_row6_col15\" class=\"data row6 col15\" >253</td>\n",
       "      <td id=\"T_360e2_row6_col16\" class=\"data row6 col16\" >253</td>\n",
       "      <td id=\"T_360e2_row6_col17\" class=\"data row6 col17\" >253</td>\n",
       "      <td id=\"T_360e2_row6_col18\" class=\"data row6 col18\" >233</td>\n",
       "      <td id=\"T_360e2_row6_col19\" class=\"data row6 col19\" >0</td>\n",
       "      <td id=\"T_360e2_row6_col20\" class=\"data row6 col20\" >0</td>\n",
       "      <td id=\"T_360e2_row6_col21\" class=\"data row6 col21\" >0</td>\n",
       "      <td id=\"T_360e2_row6_col22\" class=\"data row6 col22\" >0</td>\n",
       "      <td id=\"T_360e2_row6_col23\" class=\"data row6 col23\" >0</td>\n",
       "      <td id=\"T_360e2_row6_col24\" class=\"data row6 col24\" >0</td>\n",
       "      <td id=\"T_360e2_row6_col25\" class=\"data row6 col25\" >0</td>\n",
       "      <td id=\"T_360e2_row6_col26\" class=\"data row6 col26\" >0</td>\n",
       "      <td id=\"T_360e2_row6_col27\" class=\"data row6 col27\" >0</td>\n",
       "    </tr>\n",
       "    <tr>\n",
       "      <th id=\"T_360e2_level0_row7\" class=\"row_heading level0 row7\" >7</th>\n",
       "      <td id=\"T_360e2_row7_col0\" class=\"data row7 col0\" >0</td>\n",
       "      <td id=\"T_360e2_row7_col1\" class=\"data row7 col1\" >0</td>\n",
       "      <td id=\"T_360e2_row7_col2\" class=\"data row7 col2\" >0</td>\n",
       "      <td id=\"T_360e2_row7_col3\" class=\"data row7 col3\" >0</td>\n",
       "      <td id=\"T_360e2_row7_col4\" class=\"data row7 col4\" >0</td>\n",
       "      <td id=\"T_360e2_row7_col5\" class=\"data row7 col5\" >93</td>\n",
       "      <td id=\"T_360e2_row7_col6\" class=\"data row7 col6\" >244</td>\n",
       "      <td id=\"T_360e2_row7_col7\" class=\"data row7 col7\" >249</td>\n",
       "      <td id=\"T_360e2_row7_col8\" class=\"data row7 col8\" >253</td>\n",
       "      <td id=\"T_360e2_row7_col9\" class=\"data row7 col9\" >187</td>\n",
       "      <td id=\"T_360e2_row7_col10\" class=\"data row7 col10\" >46</td>\n",
       "      <td id=\"T_360e2_row7_col11\" class=\"data row7 col11\" >10</td>\n",
       "      <td id=\"T_360e2_row7_col12\" class=\"data row7 col12\" >8</td>\n",
       "      <td id=\"T_360e2_row7_col13\" class=\"data row7 col13\" >4</td>\n",
       "      <td id=\"T_360e2_row7_col14\" class=\"data row7 col14\" >10</td>\n",
       "      <td id=\"T_360e2_row7_col15\" class=\"data row7 col15\" >194</td>\n",
       "      <td id=\"T_360e2_row7_col16\" class=\"data row7 col16\" >253</td>\n",
       "      <td id=\"T_360e2_row7_col17\" class=\"data row7 col17\" >253</td>\n",
       "      <td id=\"T_360e2_row7_col18\" class=\"data row7 col18\" >233</td>\n",
       "      <td id=\"T_360e2_row7_col19\" class=\"data row7 col19\" >0</td>\n",
       "      <td id=\"T_360e2_row7_col20\" class=\"data row7 col20\" >0</td>\n",
       "      <td id=\"T_360e2_row7_col21\" class=\"data row7 col21\" >0</td>\n",
       "      <td id=\"T_360e2_row7_col22\" class=\"data row7 col22\" >0</td>\n",
       "      <td id=\"T_360e2_row7_col23\" class=\"data row7 col23\" >0</td>\n",
       "      <td id=\"T_360e2_row7_col24\" class=\"data row7 col24\" >0</td>\n",
       "      <td id=\"T_360e2_row7_col25\" class=\"data row7 col25\" >0</td>\n",
       "      <td id=\"T_360e2_row7_col26\" class=\"data row7 col26\" >0</td>\n",
       "      <td id=\"T_360e2_row7_col27\" class=\"data row7 col27\" >0</td>\n",
       "    </tr>\n",
       "    <tr>\n",
       "      <th id=\"T_360e2_level0_row8\" class=\"row_heading level0 row8\" >8</th>\n",
       "      <td id=\"T_360e2_row8_col0\" class=\"data row8 col0\" >0</td>\n",
       "      <td id=\"T_360e2_row8_col1\" class=\"data row8 col1\" >0</td>\n",
       "      <td id=\"T_360e2_row8_col2\" class=\"data row8 col2\" >0</td>\n",
       "      <td id=\"T_360e2_row8_col3\" class=\"data row8 col3\" >0</td>\n",
       "      <td id=\"T_360e2_row8_col4\" class=\"data row8 col4\" >0</td>\n",
       "      <td id=\"T_360e2_row8_col5\" class=\"data row8 col5\" >107</td>\n",
       "      <td id=\"T_360e2_row8_col6\" class=\"data row8 col6\" >253</td>\n",
       "      <td id=\"T_360e2_row8_col7\" class=\"data row8 col7\" >253</td>\n",
       "      <td id=\"T_360e2_row8_col8\" class=\"data row8 col8\" >230</td>\n",
       "      <td id=\"T_360e2_row8_col9\" class=\"data row8 col9\" >48</td>\n",
       "      <td id=\"T_360e2_row8_col10\" class=\"data row8 col10\" >0</td>\n",
       "      <td id=\"T_360e2_row8_col11\" class=\"data row8 col11\" >0</td>\n",
       "      <td id=\"T_360e2_row8_col12\" class=\"data row8 col12\" >0</td>\n",
       "      <td id=\"T_360e2_row8_col13\" class=\"data row8 col13\" >0</td>\n",
       "      <td id=\"T_360e2_row8_col14\" class=\"data row8 col14\" >0</td>\n",
       "      <td id=\"T_360e2_row8_col15\" class=\"data row8 col15\" >192</td>\n",
       "      <td id=\"T_360e2_row8_col16\" class=\"data row8 col16\" >253</td>\n",
       "      <td id=\"T_360e2_row8_col17\" class=\"data row8 col17\" >253</td>\n",
       "      <td id=\"T_360e2_row8_col18\" class=\"data row8 col18\" >156</td>\n",
       "      <td id=\"T_360e2_row8_col19\" class=\"data row8 col19\" >0</td>\n",
       "      <td id=\"T_360e2_row8_col20\" class=\"data row8 col20\" >0</td>\n",
       "      <td id=\"T_360e2_row8_col21\" class=\"data row8 col21\" >0</td>\n",
       "      <td id=\"T_360e2_row8_col22\" class=\"data row8 col22\" >0</td>\n",
       "      <td id=\"T_360e2_row8_col23\" class=\"data row8 col23\" >0</td>\n",
       "      <td id=\"T_360e2_row8_col24\" class=\"data row8 col24\" >0</td>\n",
       "      <td id=\"T_360e2_row8_col25\" class=\"data row8 col25\" >0</td>\n",
       "      <td id=\"T_360e2_row8_col26\" class=\"data row8 col26\" >0</td>\n",
       "      <td id=\"T_360e2_row8_col27\" class=\"data row8 col27\" >0</td>\n",
       "    </tr>\n",
       "    <tr>\n",
       "      <th id=\"T_360e2_level0_row9\" class=\"row_heading level0 row9\" >9</th>\n",
       "      <td id=\"T_360e2_row9_col0\" class=\"data row9 col0\" >0</td>\n",
       "      <td id=\"T_360e2_row9_col1\" class=\"data row9 col1\" >0</td>\n",
       "      <td id=\"T_360e2_row9_col2\" class=\"data row9 col2\" >0</td>\n",
       "      <td id=\"T_360e2_row9_col3\" class=\"data row9 col3\" >0</td>\n",
       "      <td id=\"T_360e2_row9_col4\" class=\"data row9 col4\" >0</td>\n",
       "      <td id=\"T_360e2_row9_col5\" class=\"data row9 col5\" >3</td>\n",
       "      <td id=\"T_360e2_row9_col6\" class=\"data row9 col6\" >20</td>\n",
       "      <td id=\"T_360e2_row9_col7\" class=\"data row9 col7\" >20</td>\n",
       "      <td id=\"T_360e2_row9_col8\" class=\"data row9 col8\" >15</td>\n",
       "      <td id=\"T_360e2_row9_col9\" class=\"data row9 col9\" >0</td>\n",
       "      <td id=\"T_360e2_row9_col10\" class=\"data row9 col10\" >0</td>\n",
       "      <td id=\"T_360e2_row9_col11\" class=\"data row9 col11\" >0</td>\n",
       "      <td id=\"T_360e2_row9_col12\" class=\"data row9 col12\" >0</td>\n",
       "      <td id=\"T_360e2_row9_col13\" class=\"data row9 col13\" >0</td>\n",
       "      <td id=\"T_360e2_row9_col14\" class=\"data row9 col14\" >43</td>\n",
       "      <td id=\"T_360e2_row9_col15\" class=\"data row9 col15\" >224</td>\n",
       "      <td id=\"T_360e2_row9_col16\" class=\"data row9 col16\" >253</td>\n",
       "      <td id=\"T_360e2_row9_col17\" class=\"data row9 col17\" >245</td>\n",
       "      <td id=\"T_360e2_row9_col18\" class=\"data row9 col18\" >74</td>\n",
       "      <td id=\"T_360e2_row9_col19\" class=\"data row9 col19\" >0</td>\n",
       "      <td id=\"T_360e2_row9_col20\" class=\"data row9 col20\" >0</td>\n",
       "      <td id=\"T_360e2_row9_col21\" class=\"data row9 col21\" >0</td>\n",
       "      <td id=\"T_360e2_row9_col22\" class=\"data row9 col22\" >0</td>\n",
       "      <td id=\"T_360e2_row9_col23\" class=\"data row9 col23\" >0</td>\n",
       "      <td id=\"T_360e2_row9_col24\" class=\"data row9 col24\" >0</td>\n",
       "      <td id=\"T_360e2_row9_col25\" class=\"data row9 col25\" >0</td>\n",
       "      <td id=\"T_360e2_row9_col26\" class=\"data row9 col26\" >0</td>\n",
       "      <td id=\"T_360e2_row9_col27\" class=\"data row9 col27\" >0</td>\n",
       "    </tr>\n",
       "    <tr>\n",
       "      <th id=\"T_360e2_level0_row10\" class=\"row_heading level0 row10\" >10</th>\n",
       "      <td id=\"T_360e2_row10_col0\" class=\"data row10 col0\" >0</td>\n",
       "      <td id=\"T_360e2_row10_col1\" class=\"data row10 col1\" >0</td>\n",
       "      <td id=\"T_360e2_row10_col2\" class=\"data row10 col2\" >0</td>\n",
       "      <td id=\"T_360e2_row10_col3\" class=\"data row10 col3\" >0</td>\n",
       "      <td id=\"T_360e2_row10_col4\" class=\"data row10 col4\" >0</td>\n",
       "      <td id=\"T_360e2_row10_col5\" class=\"data row10 col5\" >0</td>\n",
       "      <td id=\"T_360e2_row10_col6\" class=\"data row10 col6\" >0</td>\n",
       "      <td id=\"T_360e2_row10_col7\" class=\"data row10 col7\" >0</td>\n",
       "      <td id=\"T_360e2_row10_col8\" class=\"data row10 col8\" >0</td>\n",
       "      <td id=\"T_360e2_row10_col9\" class=\"data row10 col9\" >0</td>\n",
       "      <td id=\"T_360e2_row10_col10\" class=\"data row10 col10\" >0</td>\n",
       "      <td id=\"T_360e2_row10_col11\" class=\"data row10 col11\" >0</td>\n",
       "      <td id=\"T_360e2_row10_col12\" class=\"data row10 col12\" >0</td>\n",
       "      <td id=\"T_360e2_row10_col13\" class=\"data row10 col13\" >0</td>\n",
       "      <td id=\"T_360e2_row10_col14\" class=\"data row10 col14\" >249</td>\n",
       "      <td id=\"T_360e2_row10_col15\" class=\"data row10 col15\" >253</td>\n",
       "      <td id=\"T_360e2_row10_col16\" class=\"data row10 col16\" >245</td>\n",
       "      <td id=\"T_360e2_row10_col17\" class=\"data row10 col17\" >126</td>\n",
       "      <td id=\"T_360e2_row10_col18\" class=\"data row10 col18\" >0</td>\n",
       "      <td id=\"T_360e2_row10_col19\" class=\"data row10 col19\" >0</td>\n",
       "      <td id=\"T_360e2_row10_col20\" class=\"data row10 col20\" >0</td>\n",
       "      <td id=\"T_360e2_row10_col21\" class=\"data row10 col21\" >0</td>\n",
       "      <td id=\"T_360e2_row10_col22\" class=\"data row10 col22\" >0</td>\n",
       "      <td id=\"T_360e2_row10_col23\" class=\"data row10 col23\" >0</td>\n",
       "      <td id=\"T_360e2_row10_col24\" class=\"data row10 col24\" >0</td>\n",
       "      <td id=\"T_360e2_row10_col25\" class=\"data row10 col25\" >0</td>\n",
       "      <td id=\"T_360e2_row10_col26\" class=\"data row10 col26\" >0</td>\n",
       "      <td id=\"T_360e2_row10_col27\" class=\"data row10 col27\" >0</td>\n",
       "    </tr>\n",
       "    <tr>\n",
       "      <th id=\"T_360e2_level0_row11\" class=\"row_heading level0 row11\" >11</th>\n",
       "      <td id=\"T_360e2_row11_col0\" class=\"data row11 col0\" >0</td>\n",
       "      <td id=\"T_360e2_row11_col1\" class=\"data row11 col1\" >0</td>\n",
       "      <td id=\"T_360e2_row11_col2\" class=\"data row11 col2\" >0</td>\n",
       "      <td id=\"T_360e2_row11_col3\" class=\"data row11 col3\" >0</td>\n",
       "      <td id=\"T_360e2_row11_col4\" class=\"data row11 col4\" >0</td>\n",
       "      <td id=\"T_360e2_row11_col5\" class=\"data row11 col5\" >0</td>\n",
       "      <td id=\"T_360e2_row11_col6\" class=\"data row11 col6\" >0</td>\n",
       "      <td id=\"T_360e2_row11_col7\" class=\"data row11 col7\" >0</td>\n",
       "      <td id=\"T_360e2_row11_col8\" class=\"data row11 col8\" >0</td>\n",
       "      <td id=\"T_360e2_row11_col9\" class=\"data row11 col9\" >0</td>\n",
       "      <td id=\"T_360e2_row11_col10\" class=\"data row11 col10\" >0</td>\n",
       "      <td id=\"T_360e2_row11_col11\" class=\"data row11 col11\" >14</td>\n",
       "      <td id=\"T_360e2_row11_col12\" class=\"data row11 col12\" >101</td>\n",
       "      <td id=\"T_360e2_row11_col13\" class=\"data row11 col13\" >223</td>\n",
       "      <td id=\"T_360e2_row11_col14\" class=\"data row11 col14\" >253</td>\n",
       "      <td id=\"T_360e2_row11_col15\" class=\"data row11 col15\" >248</td>\n",
       "      <td id=\"T_360e2_row11_col16\" class=\"data row11 col16\" >124</td>\n",
       "      <td id=\"T_360e2_row11_col17\" class=\"data row11 col17\" >0</td>\n",
       "      <td id=\"T_360e2_row11_col18\" class=\"data row11 col18\" >0</td>\n",
       "      <td id=\"T_360e2_row11_col19\" class=\"data row11 col19\" >0</td>\n",
       "      <td id=\"T_360e2_row11_col20\" class=\"data row11 col20\" >0</td>\n",
       "      <td id=\"T_360e2_row11_col21\" class=\"data row11 col21\" >0</td>\n",
       "      <td id=\"T_360e2_row11_col22\" class=\"data row11 col22\" >0</td>\n",
       "      <td id=\"T_360e2_row11_col23\" class=\"data row11 col23\" >0</td>\n",
       "      <td id=\"T_360e2_row11_col24\" class=\"data row11 col24\" >0</td>\n",
       "      <td id=\"T_360e2_row11_col25\" class=\"data row11 col25\" >0</td>\n",
       "      <td id=\"T_360e2_row11_col26\" class=\"data row11 col26\" >0</td>\n",
       "      <td id=\"T_360e2_row11_col27\" class=\"data row11 col27\" >0</td>\n",
       "    </tr>\n",
       "    <tr>\n",
       "      <th id=\"T_360e2_level0_row12\" class=\"row_heading level0 row12\" >12</th>\n",
       "      <td id=\"T_360e2_row12_col0\" class=\"data row12 col0\" >0</td>\n",
       "      <td id=\"T_360e2_row12_col1\" class=\"data row12 col1\" >0</td>\n",
       "      <td id=\"T_360e2_row12_col2\" class=\"data row12 col2\" >0</td>\n",
       "      <td id=\"T_360e2_row12_col3\" class=\"data row12 col3\" >0</td>\n",
       "      <td id=\"T_360e2_row12_col4\" class=\"data row12 col4\" >0</td>\n",
       "      <td id=\"T_360e2_row12_col5\" class=\"data row12 col5\" >0</td>\n",
       "      <td id=\"T_360e2_row12_col6\" class=\"data row12 col6\" >0</td>\n",
       "      <td id=\"T_360e2_row12_col7\" class=\"data row12 col7\" >0</td>\n",
       "      <td id=\"T_360e2_row12_col8\" class=\"data row12 col8\" >0</td>\n",
       "      <td id=\"T_360e2_row12_col9\" class=\"data row12 col9\" >11</td>\n",
       "      <td id=\"T_360e2_row12_col10\" class=\"data row12 col10\" >166</td>\n",
       "      <td id=\"T_360e2_row12_col11\" class=\"data row12 col11\" >239</td>\n",
       "      <td id=\"T_360e2_row12_col12\" class=\"data row12 col12\" >253</td>\n",
       "      <td id=\"T_360e2_row12_col13\" class=\"data row12 col13\" >253</td>\n",
       "      <td id=\"T_360e2_row12_col14\" class=\"data row12 col14\" >253</td>\n",
       "      <td id=\"T_360e2_row12_col15\" class=\"data row12 col15\" >187</td>\n",
       "      <td id=\"T_360e2_row12_col16\" class=\"data row12 col16\" >30</td>\n",
       "      <td id=\"T_360e2_row12_col17\" class=\"data row12 col17\" >0</td>\n",
       "      <td id=\"T_360e2_row12_col18\" class=\"data row12 col18\" >0</td>\n",
       "      <td id=\"T_360e2_row12_col19\" class=\"data row12 col19\" >0</td>\n",
       "      <td id=\"T_360e2_row12_col20\" class=\"data row12 col20\" >0</td>\n",
       "      <td id=\"T_360e2_row12_col21\" class=\"data row12 col21\" >0</td>\n",
       "      <td id=\"T_360e2_row12_col22\" class=\"data row12 col22\" >0</td>\n",
       "      <td id=\"T_360e2_row12_col23\" class=\"data row12 col23\" >0</td>\n",
       "      <td id=\"T_360e2_row12_col24\" class=\"data row12 col24\" >0</td>\n",
       "      <td id=\"T_360e2_row12_col25\" class=\"data row12 col25\" >0</td>\n",
       "      <td id=\"T_360e2_row12_col26\" class=\"data row12 col26\" >0</td>\n",
       "      <td id=\"T_360e2_row12_col27\" class=\"data row12 col27\" >0</td>\n",
       "    </tr>\n",
       "    <tr>\n",
       "      <th id=\"T_360e2_level0_row13\" class=\"row_heading level0 row13\" >13</th>\n",
       "      <td id=\"T_360e2_row13_col0\" class=\"data row13 col0\" >0</td>\n",
       "      <td id=\"T_360e2_row13_col1\" class=\"data row13 col1\" >0</td>\n",
       "      <td id=\"T_360e2_row13_col2\" class=\"data row13 col2\" >0</td>\n",
       "      <td id=\"T_360e2_row13_col3\" class=\"data row13 col3\" >0</td>\n",
       "      <td id=\"T_360e2_row13_col4\" class=\"data row13 col4\" >0</td>\n",
       "      <td id=\"T_360e2_row13_col5\" class=\"data row13 col5\" >0</td>\n",
       "      <td id=\"T_360e2_row13_col6\" class=\"data row13 col6\" >0</td>\n",
       "      <td id=\"T_360e2_row13_col7\" class=\"data row13 col7\" >0</td>\n",
       "      <td id=\"T_360e2_row13_col8\" class=\"data row13 col8\" >0</td>\n",
       "      <td id=\"T_360e2_row13_col9\" class=\"data row13 col9\" >16</td>\n",
       "      <td id=\"T_360e2_row13_col10\" class=\"data row13 col10\" >248</td>\n",
       "      <td id=\"T_360e2_row13_col11\" class=\"data row13 col11\" >250</td>\n",
       "      <td id=\"T_360e2_row13_col12\" class=\"data row13 col12\" >253</td>\n",
       "      <td id=\"T_360e2_row13_col13\" class=\"data row13 col13\" >253</td>\n",
       "      <td id=\"T_360e2_row13_col14\" class=\"data row13 col14\" >253</td>\n",
       "      <td id=\"T_360e2_row13_col15\" class=\"data row13 col15\" >253</td>\n",
       "      <td id=\"T_360e2_row13_col16\" class=\"data row13 col16\" >232</td>\n",
       "      <td id=\"T_360e2_row13_col17\" class=\"data row13 col17\" >213</td>\n",
       "      <td id=\"T_360e2_row13_col18\" class=\"data row13 col18\" >111</td>\n",
       "      <td id=\"T_360e2_row13_col19\" class=\"data row13 col19\" >2</td>\n",
       "      <td id=\"T_360e2_row13_col20\" class=\"data row13 col20\" >0</td>\n",
       "      <td id=\"T_360e2_row13_col21\" class=\"data row13 col21\" >0</td>\n",
       "      <td id=\"T_360e2_row13_col22\" class=\"data row13 col22\" >0</td>\n",
       "      <td id=\"T_360e2_row13_col23\" class=\"data row13 col23\" >0</td>\n",
       "      <td id=\"T_360e2_row13_col24\" class=\"data row13 col24\" >0</td>\n",
       "      <td id=\"T_360e2_row13_col25\" class=\"data row13 col25\" >0</td>\n",
       "      <td id=\"T_360e2_row13_col26\" class=\"data row13 col26\" >0</td>\n",
       "      <td id=\"T_360e2_row13_col27\" class=\"data row13 col27\" >0</td>\n",
       "    </tr>\n",
       "    <tr>\n",
       "      <th id=\"T_360e2_level0_row14\" class=\"row_heading level0 row14\" >14</th>\n",
       "      <td id=\"T_360e2_row14_col0\" class=\"data row14 col0\" >0</td>\n",
       "      <td id=\"T_360e2_row14_col1\" class=\"data row14 col1\" >0</td>\n",
       "      <td id=\"T_360e2_row14_col2\" class=\"data row14 col2\" >0</td>\n",
       "      <td id=\"T_360e2_row14_col3\" class=\"data row14 col3\" >0</td>\n",
       "      <td id=\"T_360e2_row14_col4\" class=\"data row14 col4\" >0</td>\n",
       "      <td id=\"T_360e2_row14_col5\" class=\"data row14 col5\" >0</td>\n",
       "      <td id=\"T_360e2_row14_col6\" class=\"data row14 col6\" >0</td>\n",
       "      <td id=\"T_360e2_row14_col7\" class=\"data row14 col7\" >0</td>\n",
       "      <td id=\"T_360e2_row14_col8\" class=\"data row14 col8\" >0</td>\n",
       "      <td id=\"T_360e2_row14_col9\" class=\"data row14 col9\" >0</td>\n",
       "      <td id=\"T_360e2_row14_col10\" class=\"data row14 col10\" >0</td>\n",
       "      <td id=\"T_360e2_row14_col11\" class=\"data row14 col11\" >43</td>\n",
       "      <td id=\"T_360e2_row14_col12\" class=\"data row14 col12\" >98</td>\n",
       "      <td id=\"T_360e2_row14_col13\" class=\"data row14 col13\" >98</td>\n",
       "      <td id=\"T_360e2_row14_col14\" class=\"data row14 col14\" >208</td>\n",
       "      <td id=\"T_360e2_row14_col15\" class=\"data row14 col15\" >253</td>\n",
       "      <td id=\"T_360e2_row14_col16\" class=\"data row14 col16\" >253</td>\n",
       "      <td id=\"T_360e2_row14_col17\" class=\"data row14 col17\" >253</td>\n",
       "      <td id=\"T_360e2_row14_col18\" class=\"data row14 col18\" >253</td>\n",
       "      <td id=\"T_360e2_row14_col19\" class=\"data row14 col19\" >187</td>\n",
       "      <td id=\"T_360e2_row14_col20\" class=\"data row14 col20\" >22</td>\n",
       "      <td id=\"T_360e2_row14_col21\" class=\"data row14 col21\" >0</td>\n",
       "      <td id=\"T_360e2_row14_col22\" class=\"data row14 col22\" >0</td>\n",
       "      <td id=\"T_360e2_row14_col23\" class=\"data row14 col23\" >0</td>\n",
       "      <td id=\"T_360e2_row14_col24\" class=\"data row14 col24\" >0</td>\n",
       "      <td id=\"T_360e2_row14_col25\" class=\"data row14 col25\" >0</td>\n",
       "      <td id=\"T_360e2_row14_col26\" class=\"data row14 col26\" >0</td>\n",
       "      <td id=\"T_360e2_row14_col27\" class=\"data row14 col27\" >0</td>\n",
       "    </tr>\n",
       "    <tr>\n",
       "      <th id=\"T_360e2_level0_row15\" class=\"row_heading level0 row15\" >15</th>\n",
       "      <td id=\"T_360e2_row15_col0\" class=\"data row15 col0\" >0</td>\n",
       "      <td id=\"T_360e2_row15_col1\" class=\"data row15 col1\" >0</td>\n",
       "      <td id=\"T_360e2_row15_col2\" class=\"data row15 col2\" >0</td>\n",
       "      <td id=\"T_360e2_row15_col3\" class=\"data row15 col3\" >0</td>\n",
       "      <td id=\"T_360e2_row15_col4\" class=\"data row15 col4\" >0</td>\n",
       "      <td id=\"T_360e2_row15_col5\" class=\"data row15 col5\" >0</td>\n",
       "      <td id=\"T_360e2_row15_col6\" class=\"data row15 col6\" >0</td>\n",
       "      <td id=\"T_360e2_row15_col7\" class=\"data row15 col7\" >0</td>\n",
       "      <td id=\"T_360e2_row15_col8\" class=\"data row15 col8\" >0</td>\n",
       "      <td id=\"T_360e2_row15_col9\" class=\"data row15 col9\" >0</td>\n",
       "      <td id=\"T_360e2_row15_col10\" class=\"data row15 col10\" >0</td>\n",
       "      <td id=\"T_360e2_row15_col11\" class=\"data row15 col11\" >0</td>\n",
       "      <td id=\"T_360e2_row15_col12\" class=\"data row15 col12\" >0</td>\n",
       "      <td id=\"T_360e2_row15_col13\" class=\"data row15 col13\" >0</td>\n",
       "      <td id=\"T_360e2_row15_col14\" class=\"data row15 col14\" >9</td>\n",
       "      <td id=\"T_360e2_row15_col15\" class=\"data row15 col15\" >51</td>\n",
       "      <td id=\"T_360e2_row15_col16\" class=\"data row15 col16\" >119</td>\n",
       "      <td id=\"T_360e2_row15_col17\" class=\"data row15 col17\" >253</td>\n",
       "      <td id=\"T_360e2_row15_col18\" class=\"data row15 col18\" >253</td>\n",
       "      <td id=\"T_360e2_row15_col19\" class=\"data row15 col19\" >253</td>\n",
       "      <td id=\"T_360e2_row15_col20\" class=\"data row15 col20\" >76</td>\n",
       "      <td id=\"T_360e2_row15_col21\" class=\"data row15 col21\" >0</td>\n",
       "      <td id=\"T_360e2_row15_col22\" class=\"data row15 col22\" >0</td>\n",
       "      <td id=\"T_360e2_row15_col23\" class=\"data row15 col23\" >0</td>\n",
       "      <td id=\"T_360e2_row15_col24\" class=\"data row15 col24\" >0</td>\n",
       "      <td id=\"T_360e2_row15_col25\" class=\"data row15 col25\" >0</td>\n",
       "      <td id=\"T_360e2_row15_col26\" class=\"data row15 col26\" >0</td>\n",
       "      <td id=\"T_360e2_row15_col27\" class=\"data row15 col27\" >0</td>\n",
       "    </tr>\n",
       "    <tr>\n",
       "      <th id=\"T_360e2_level0_row16\" class=\"row_heading level0 row16\" >16</th>\n",
       "      <td id=\"T_360e2_row16_col0\" class=\"data row16 col0\" >0</td>\n",
       "      <td id=\"T_360e2_row16_col1\" class=\"data row16 col1\" >0</td>\n",
       "      <td id=\"T_360e2_row16_col2\" class=\"data row16 col2\" >0</td>\n",
       "      <td id=\"T_360e2_row16_col3\" class=\"data row16 col3\" >0</td>\n",
       "      <td id=\"T_360e2_row16_col4\" class=\"data row16 col4\" >0</td>\n",
       "      <td id=\"T_360e2_row16_col5\" class=\"data row16 col5\" >0</td>\n",
       "      <td id=\"T_360e2_row16_col6\" class=\"data row16 col6\" >0</td>\n",
       "      <td id=\"T_360e2_row16_col7\" class=\"data row16 col7\" >0</td>\n",
       "      <td id=\"T_360e2_row16_col8\" class=\"data row16 col8\" >0</td>\n",
       "      <td id=\"T_360e2_row16_col9\" class=\"data row16 col9\" >0</td>\n",
       "      <td id=\"T_360e2_row16_col10\" class=\"data row16 col10\" >0</td>\n",
       "      <td id=\"T_360e2_row16_col11\" class=\"data row16 col11\" >0</td>\n",
       "      <td id=\"T_360e2_row16_col12\" class=\"data row16 col12\" >0</td>\n",
       "      <td id=\"T_360e2_row16_col13\" class=\"data row16 col13\" >0</td>\n",
       "      <td id=\"T_360e2_row16_col14\" class=\"data row16 col14\" >0</td>\n",
       "      <td id=\"T_360e2_row16_col15\" class=\"data row16 col15\" >0</td>\n",
       "      <td id=\"T_360e2_row16_col16\" class=\"data row16 col16\" >1</td>\n",
       "      <td id=\"T_360e2_row16_col17\" class=\"data row16 col17\" >183</td>\n",
       "      <td id=\"T_360e2_row16_col18\" class=\"data row16 col18\" >253</td>\n",
       "      <td id=\"T_360e2_row16_col19\" class=\"data row16 col19\" >253</td>\n",
       "      <td id=\"T_360e2_row16_col20\" class=\"data row16 col20\" >139</td>\n",
       "      <td id=\"T_360e2_row16_col21\" class=\"data row16 col21\" >0</td>\n",
       "      <td id=\"T_360e2_row16_col22\" class=\"data row16 col22\" >0</td>\n",
       "      <td id=\"T_360e2_row16_col23\" class=\"data row16 col23\" >0</td>\n",
       "      <td id=\"T_360e2_row16_col24\" class=\"data row16 col24\" >0</td>\n",
       "      <td id=\"T_360e2_row16_col25\" class=\"data row16 col25\" >0</td>\n",
       "      <td id=\"T_360e2_row16_col26\" class=\"data row16 col26\" >0</td>\n",
       "      <td id=\"T_360e2_row16_col27\" class=\"data row16 col27\" >0</td>\n",
       "    </tr>\n",
       "    <tr>\n",
       "      <th id=\"T_360e2_level0_row17\" class=\"row_heading level0 row17\" >17</th>\n",
       "      <td id=\"T_360e2_row17_col0\" class=\"data row17 col0\" >0</td>\n",
       "      <td id=\"T_360e2_row17_col1\" class=\"data row17 col1\" >0</td>\n",
       "      <td id=\"T_360e2_row17_col2\" class=\"data row17 col2\" >0</td>\n",
       "      <td id=\"T_360e2_row17_col3\" class=\"data row17 col3\" >0</td>\n",
       "      <td id=\"T_360e2_row17_col4\" class=\"data row17 col4\" >0</td>\n",
       "      <td id=\"T_360e2_row17_col5\" class=\"data row17 col5\" >0</td>\n",
       "      <td id=\"T_360e2_row17_col6\" class=\"data row17 col6\" >0</td>\n",
       "      <td id=\"T_360e2_row17_col7\" class=\"data row17 col7\" >0</td>\n",
       "      <td id=\"T_360e2_row17_col8\" class=\"data row17 col8\" >0</td>\n",
       "      <td id=\"T_360e2_row17_col9\" class=\"data row17 col9\" >0</td>\n",
       "      <td id=\"T_360e2_row17_col10\" class=\"data row17 col10\" >0</td>\n",
       "      <td id=\"T_360e2_row17_col11\" class=\"data row17 col11\" >0</td>\n",
       "      <td id=\"T_360e2_row17_col12\" class=\"data row17 col12\" >0</td>\n",
       "      <td id=\"T_360e2_row17_col13\" class=\"data row17 col13\" >0</td>\n",
       "      <td id=\"T_360e2_row17_col14\" class=\"data row17 col14\" >0</td>\n",
       "      <td id=\"T_360e2_row17_col15\" class=\"data row17 col15\" >0</td>\n",
       "      <td id=\"T_360e2_row17_col16\" class=\"data row17 col16\" >0</td>\n",
       "      <td id=\"T_360e2_row17_col17\" class=\"data row17 col17\" >182</td>\n",
       "      <td id=\"T_360e2_row17_col18\" class=\"data row17 col18\" >253</td>\n",
       "      <td id=\"T_360e2_row17_col19\" class=\"data row17 col19\" >253</td>\n",
       "      <td id=\"T_360e2_row17_col20\" class=\"data row17 col20\" >104</td>\n",
       "      <td id=\"T_360e2_row17_col21\" class=\"data row17 col21\" >0</td>\n",
       "      <td id=\"T_360e2_row17_col22\" class=\"data row17 col22\" >0</td>\n",
       "      <td id=\"T_360e2_row17_col23\" class=\"data row17 col23\" >0</td>\n",
       "      <td id=\"T_360e2_row17_col24\" class=\"data row17 col24\" >0</td>\n",
       "      <td id=\"T_360e2_row17_col25\" class=\"data row17 col25\" >0</td>\n",
       "      <td id=\"T_360e2_row17_col26\" class=\"data row17 col26\" >0</td>\n",
       "      <td id=\"T_360e2_row17_col27\" class=\"data row17 col27\" >0</td>\n",
       "    </tr>\n",
       "    <tr>\n",
       "      <th id=\"T_360e2_level0_row18\" class=\"row_heading level0 row18\" >18</th>\n",
       "      <td id=\"T_360e2_row18_col0\" class=\"data row18 col0\" >0</td>\n",
       "      <td id=\"T_360e2_row18_col1\" class=\"data row18 col1\" >0</td>\n",
       "      <td id=\"T_360e2_row18_col2\" class=\"data row18 col2\" >0</td>\n",
       "      <td id=\"T_360e2_row18_col3\" class=\"data row18 col3\" >0</td>\n",
       "      <td id=\"T_360e2_row18_col4\" class=\"data row18 col4\" >0</td>\n",
       "      <td id=\"T_360e2_row18_col5\" class=\"data row18 col5\" >0</td>\n",
       "      <td id=\"T_360e2_row18_col6\" class=\"data row18 col6\" >0</td>\n",
       "      <td id=\"T_360e2_row18_col7\" class=\"data row18 col7\" >0</td>\n",
       "      <td id=\"T_360e2_row18_col8\" class=\"data row18 col8\" >0</td>\n",
       "      <td id=\"T_360e2_row18_col9\" class=\"data row18 col9\" >0</td>\n",
       "      <td id=\"T_360e2_row18_col10\" class=\"data row18 col10\" >0</td>\n",
       "      <td id=\"T_360e2_row18_col11\" class=\"data row18 col11\" >0</td>\n",
       "      <td id=\"T_360e2_row18_col12\" class=\"data row18 col12\" >0</td>\n",
       "      <td id=\"T_360e2_row18_col13\" class=\"data row18 col13\" >0</td>\n",
       "      <td id=\"T_360e2_row18_col14\" class=\"data row18 col14\" >0</td>\n",
       "      <td id=\"T_360e2_row18_col15\" class=\"data row18 col15\" >0</td>\n",
       "      <td id=\"T_360e2_row18_col16\" class=\"data row18 col16\" >85</td>\n",
       "      <td id=\"T_360e2_row18_col17\" class=\"data row18 col17\" >249</td>\n",
       "      <td id=\"T_360e2_row18_col18\" class=\"data row18 col18\" >253</td>\n",
       "      <td id=\"T_360e2_row18_col19\" class=\"data row18 col19\" >253</td>\n",
       "      <td id=\"T_360e2_row18_col20\" class=\"data row18 col20\" >36</td>\n",
       "      <td id=\"T_360e2_row18_col21\" class=\"data row18 col21\" >0</td>\n",
       "      <td id=\"T_360e2_row18_col22\" class=\"data row18 col22\" >0</td>\n",
       "      <td id=\"T_360e2_row18_col23\" class=\"data row18 col23\" >0</td>\n",
       "      <td id=\"T_360e2_row18_col24\" class=\"data row18 col24\" >0</td>\n",
       "      <td id=\"T_360e2_row18_col25\" class=\"data row18 col25\" >0</td>\n",
       "      <td id=\"T_360e2_row18_col26\" class=\"data row18 col26\" >0</td>\n",
       "      <td id=\"T_360e2_row18_col27\" class=\"data row18 col27\" >0</td>\n",
       "    </tr>\n",
       "    <tr>\n",
       "      <th id=\"T_360e2_level0_row19\" class=\"row_heading level0 row19\" >19</th>\n",
       "      <td id=\"T_360e2_row19_col0\" class=\"data row19 col0\" >0</td>\n",
       "      <td id=\"T_360e2_row19_col1\" class=\"data row19 col1\" >0</td>\n",
       "      <td id=\"T_360e2_row19_col2\" class=\"data row19 col2\" >0</td>\n",
       "      <td id=\"T_360e2_row19_col3\" class=\"data row19 col3\" >0</td>\n",
       "      <td id=\"T_360e2_row19_col4\" class=\"data row19 col4\" >0</td>\n",
       "      <td id=\"T_360e2_row19_col5\" class=\"data row19 col5\" >0</td>\n",
       "      <td id=\"T_360e2_row19_col6\" class=\"data row19 col6\" >0</td>\n",
       "      <td id=\"T_360e2_row19_col7\" class=\"data row19 col7\" >0</td>\n",
       "      <td id=\"T_360e2_row19_col8\" class=\"data row19 col8\" >0</td>\n",
       "      <td id=\"T_360e2_row19_col9\" class=\"data row19 col9\" >0</td>\n",
       "      <td id=\"T_360e2_row19_col10\" class=\"data row19 col10\" >0</td>\n",
       "      <td id=\"T_360e2_row19_col11\" class=\"data row19 col11\" >0</td>\n",
       "      <td id=\"T_360e2_row19_col12\" class=\"data row19 col12\" >0</td>\n",
       "      <td id=\"T_360e2_row19_col13\" class=\"data row19 col13\" >0</td>\n",
       "      <td id=\"T_360e2_row19_col14\" class=\"data row19 col14\" >0</td>\n",
       "      <td id=\"T_360e2_row19_col15\" class=\"data row19 col15\" >60</td>\n",
       "      <td id=\"T_360e2_row19_col16\" class=\"data row19 col16\" >214</td>\n",
       "      <td id=\"T_360e2_row19_col17\" class=\"data row19 col17\" >253</td>\n",
       "      <td id=\"T_360e2_row19_col18\" class=\"data row19 col18\" >253</td>\n",
       "      <td id=\"T_360e2_row19_col19\" class=\"data row19 col19\" >173</td>\n",
       "      <td id=\"T_360e2_row19_col20\" class=\"data row19 col20\" >11</td>\n",
       "      <td id=\"T_360e2_row19_col21\" class=\"data row19 col21\" >0</td>\n",
       "      <td id=\"T_360e2_row19_col22\" class=\"data row19 col22\" >0</td>\n",
       "      <td id=\"T_360e2_row19_col23\" class=\"data row19 col23\" >0</td>\n",
       "      <td id=\"T_360e2_row19_col24\" class=\"data row19 col24\" >0</td>\n",
       "      <td id=\"T_360e2_row19_col25\" class=\"data row19 col25\" >0</td>\n",
       "      <td id=\"T_360e2_row19_col26\" class=\"data row19 col26\" >0</td>\n",
       "      <td id=\"T_360e2_row19_col27\" class=\"data row19 col27\" >0</td>\n",
       "    </tr>\n",
       "    <tr>\n",
       "      <th id=\"T_360e2_level0_row20\" class=\"row_heading level0 row20\" >20</th>\n",
       "      <td id=\"T_360e2_row20_col0\" class=\"data row20 col0\" >0</td>\n",
       "      <td id=\"T_360e2_row20_col1\" class=\"data row20 col1\" >0</td>\n",
       "      <td id=\"T_360e2_row20_col2\" class=\"data row20 col2\" >0</td>\n",
       "      <td id=\"T_360e2_row20_col3\" class=\"data row20 col3\" >0</td>\n",
       "      <td id=\"T_360e2_row20_col4\" class=\"data row20 col4\" >0</td>\n",
       "      <td id=\"T_360e2_row20_col5\" class=\"data row20 col5\" >0</td>\n",
       "      <td id=\"T_360e2_row20_col6\" class=\"data row20 col6\" >0</td>\n",
       "      <td id=\"T_360e2_row20_col7\" class=\"data row20 col7\" >0</td>\n",
       "      <td id=\"T_360e2_row20_col8\" class=\"data row20 col8\" >0</td>\n",
       "      <td id=\"T_360e2_row20_col9\" class=\"data row20 col9\" >0</td>\n",
       "      <td id=\"T_360e2_row20_col10\" class=\"data row20 col10\" >0</td>\n",
       "      <td id=\"T_360e2_row20_col11\" class=\"data row20 col11\" >0</td>\n",
       "      <td id=\"T_360e2_row20_col12\" class=\"data row20 col12\" >0</td>\n",
       "      <td id=\"T_360e2_row20_col13\" class=\"data row20 col13\" >0</td>\n",
       "      <td id=\"T_360e2_row20_col14\" class=\"data row20 col14\" >98</td>\n",
       "      <td id=\"T_360e2_row20_col15\" class=\"data row20 col15\" >247</td>\n",
       "      <td id=\"T_360e2_row20_col16\" class=\"data row20 col16\" >253</td>\n",
       "      <td id=\"T_360e2_row20_col17\" class=\"data row20 col17\" >253</td>\n",
       "      <td id=\"T_360e2_row20_col18\" class=\"data row20 col18\" >226</td>\n",
       "      <td id=\"T_360e2_row20_col19\" class=\"data row20 col19\" >9</td>\n",
       "      <td id=\"T_360e2_row20_col20\" class=\"data row20 col20\" >0</td>\n",
       "      <td id=\"T_360e2_row20_col21\" class=\"data row20 col21\" >0</td>\n",
       "      <td id=\"T_360e2_row20_col22\" class=\"data row20 col22\" >0</td>\n",
       "      <td id=\"T_360e2_row20_col23\" class=\"data row20 col23\" >0</td>\n",
       "      <td id=\"T_360e2_row20_col24\" class=\"data row20 col24\" >0</td>\n",
       "      <td id=\"T_360e2_row20_col25\" class=\"data row20 col25\" >0</td>\n",
       "      <td id=\"T_360e2_row20_col26\" class=\"data row20 col26\" >0</td>\n",
       "      <td id=\"T_360e2_row20_col27\" class=\"data row20 col27\" >0</td>\n",
       "    </tr>\n",
       "    <tr>\n",
       "      <th id=\"T_360e2_level0_row21\" class=\"row_heading level0 row21\" >21</th>\n",
       "      <td id=\"T_360e2_row21_col0\" class=\"data row21 col0\" >0</td>\n",
       "      <td id=\"T_360e2_row21_col1\" class=\"data row21 col1\" >0</td>\n",
       "      <td id=\"T_360e2_row21_col2\" class=\"data row21 col2\" >0</td>\n",
       "      <td id=\"T_360e2_row21_col3\" class=\"data row21 col3\" >0</td>\n",
       "      <td id=\"T_360e2_row21_col4\" class=\"data row21 col4\" >0</td>\n",
       "      <td id=\"T_360e2_row21_col5\" class=\"data row21 col5\" >0</td>\n",
       "      <td id=\"T_360e2_row21_col6\" class=\"data row21 col6\" >0</td>\n",
       "      <td id=\"T_360e2_row21_col7\" class=\"data row21 col7\" >0</td>\n",
       "      <td id=\"T_360e2_row21_col8\" class=\"data row21 col8\" >0</td>\n",
       "      <td id=\"T_360e2_row21_col9\" class=\"data row21 col9\" >0</td>\n",
       "      <td id=\"T_360e2_row21_col10\" class=\"data row21 col10\" >0</td>\n",
       "      <td id=\"T_360e2_row21_col11\" class=\"data row21 col11\" >0</td>\n",
       "      <td id=\"T_360e2_row21_col12\" class=\"data row21 col12\" >42</td>\n",
       "      <td id=\"T_360e2_row21_col13\" class=\"data row21 col13\" >150</td>\n",
       "      <td id=\"T_360e2_row21_col14\" class=\"data row21 col14\" >252</td>\n",
       "      <td id=\"T_360e2_row21_col15\" class=\"data row21 col15\" >253</td>\n",
       "      <td id=\"T_360e2_row21_col16\" class=\"data row21 col16\" >253</td>\n",
       "      <td id=\"T_360e2_row21_col17\" class=\"data row21 col17\" >233</td>\n",
       "      <td id=\"T_360e2_row21_col18\" class=\"data row21 col18\" >53</td>\n",
       "      <td id=\"T_360e2_row21_col19\" class=\"data row21 col19\" >0</td>\n",
       "      <td id=\"T_360e2_row21_col20\" class=\"data row21 col20\" >0</td>\n",
       "      <td id=\"T_360e2_row21_col21\" class=\"data row21 col21\" >0</td>\n",
       "      <td id=\"T_360e2_row21_col22\" class=\"data row21 col22\" >0</td>\n",
       "      <td id=\"T_360e2_row21_col23\" class=\"data row21 col23\" >0</td>\n",
       "      <td id=\"T_360e2_row21_col24\" class=\"data row21 col24\" >0</td>\n",
       "      <td id=\"T_360e2_row21_col25\" class=\"data row21 col25\" >0</td>\n",
       "      <td id=\"T_360e2_row21_col26\" class=\"data row21 col26\" >0</td>\n",
       "      <td id=\"T_360e2_row21_col27\" class=\"data row21 col27\" >0</td>\n",
       "    </tr>\n",
       "    <tr>\n",
       "      <th id=\"T_360e2_level0_row22\" class=\"row_heading level0 row22\" >22</th>\n",
       "      <td id=\"T_360e2_row22_col0\" class=\"data row22 col0\" >0</td>\n",
       "      <td id=\"T_360e2_row22_col1\" class=\"data row22 col1\" >0</td>\n",
       "      <td id=\"T_360e2_row22_col2\" class=\"data row22 col2\" >0</td>\n",
       "      <td id=\"T_360e2_row22_col3\" class=\"data row22 col3\" >0</td>\n",
       "      <td id=\"T_360e2_row22_col4\" class=\"data row22 col4\" >0</td>\n",
       "      <td id=\"T_360e2_row22_col5\" class=\"data row22 col5\" >0</td>\n",
       "      <td id=\"T_360e2_row22_col6\" class=\"data row22 col6\" >42</td>\n",
       "      <td id=\"T_360e2_row22_col7\" class=\"data row22 col7\" >115</td>\n",
       "      <td id=\"T_360e2_row22_col8\" class=\"data row22 col8\" >42</td>\n",
       "      <td id=\"T_360e2_row22_col9\" class=\"data row22 col9\" >60</td>\n",
       "      <td id=\"T_360e2_row22_col10\" class=\"data row22 col10\" >115</td>\n",
       "      <td id=\"T_360e2_row22_col11\" class=\"data row22 col11\" >159</td>\n",
       "      <td id=\"T_360e2_row22_col12\" class=\"data row22 col12\" >240</td>\n",
       "      <td id=\"T_360e2_row22_col13\" class=\"data row22 col13\" >253</td>\n",
       "      <td id=\"T_360e2_row22_col14\" class=\"data row22 col14\" >253</td>\n",
       "      <td id=\"T_360e2_row22_col15\" class=\"data row22 col15\" >250</td>\n",
       "      <td id=\"T_360e2_row22_col16\" class=\"data row22 col16\" >175</td>\n",
       "      <td id=\"T_360e2_row22_col17\" class=\"data row22 col17\" >25</td>\n",
       "      <td id=\"T_360e2_row22_col18\" class=\"data row22 col18\" >0</td>\n",
       "      <td id=\"T_360e2_row22_col19\" class=\"data row22 col19\" >0</td>\n",
       "      <td id=\"T_360e2_row22_col20\" class=\"data row22 col20\" >0</td>\n",
       "      <td id=\"T_360e2_row22_col21\" class=\"data row22 col21\" >0</td>\n",
       "      <td id=\"T_360e2_row22_col22\" class=\"data row22 col22\" >0</td>\n",
       "      <td id=\"T_360e2_row22_col23\" class=\"data row22 col23\" >0</td>\n",
       "      <td id=\"T_360e2_row22_col24\" class=\"data row22 col24\" >0</td>\n",
       "      <td id=\"T_360e2_row22_col25\" class=\"data row22 col25\" >0</td>\n",
       "      <td id=\"T_360e2_row22_col26\" class=\"data row22 col26\" >0</td>\n",
       "      <td id=\"T_360e2_row22_col27\" class=\"data row22 col27\" >0</td>\n",
       "    </tr>\n",
       "    <tr>\n",
       "      <th id=\"T_360e2_level0_row23\" class=\"row_heading level0 row23\" >23</th>\n",
       "      <td id=\"T_360e2_row23_col0\" class=\"data row23 col0\" >0</td>\n",
       "      <td id=\"T_360e2_row23_col1\" class=\"data row23 col1\" >0</td>\n",
       "      <td id=\"T_360e2_row23_col2\" class=\"data row23 col2\" >0</td>\n",
       "      <td id=\"T_360e2_row23_col3\" class=\"data row23 col3\" >0</td>\n",
       "      <td id=\"T_360e2_row23_col4\" class=\"data row23 col4\" >0</td>\n",
       "      <td id=\"T_360e2_row23_col5\" class=\"data row23 col5\" >0</td>\n",
       "      <td id=\"T_360e2_row23_col6\" class=\"data row23 col6\" >187</td>\n",
       "      <td id=\"T_360e2_row23_col7\" class=\"data row23 col7\" >253</td>\n",
       "      <td id=\"T_360e2_row23_col8\" class=\"data row23 col8\" >253</td>\n",
       "      <td id=\"T_360e2_row23_col9\" class=\"data row23 col9\" >253</td>\n",
       "      <td id=\"T_360e2_row23_col10\" class=\"data row23 col10\" >253</td>\n",
       "      <td id=\"T_360e2_row23_col11\" class=\"data row23 col11\" >253</td>\n",
       "      <td id=\"T_360e2_row23_col12\" class=\"data row23 col12\" >253</td>\n",
       "      <td id=\"T_360e2_row23_col13\" class=\"data row23 col13\" >253</td>\n",
       "      <td id=\"T_360e2_row23_col14\" class=\"data row23 col14\" >197</td>\n",
       "      <td id=\"T_360e2_row23_col15\" class=\"data row23 col15\" >86</td>\n",
       "      <td id=\"T_360e2_row23_col16\" class=\"data row23 col16\" >0</td>\n",
       "      <td id=\"T_360e2_row23_col17\" class=\"data row23 col17\" >0</td>\n",
       "      <td id=\"T_360e2_row23_col18\" class=\"data row23 col18\" >0</td>\n",
       "      <td id=\"T_360e2_row23_col19\" class=\"data row23 col19\" >0</td>\n",
       "      <td id=\"T_360e2_row23_col20\" class=\"data row23 col20\" >0</td>\n",
       "      <td id=\"T_360e2_row23_col21\" class=\"data row23 col21\" >0</td>\n",
       "      <td id=\"T_360e2_row23_col22\" class=\"data row23 col22\" >0</td>\n",
       "      <td id=\"T_360e2_row23_col23\" class=\"data row23 col23\" >0</td>\n",
       "      <td id=\"T_360e2_row23_col24\" class=\"data row23 col24\" >0</td>\n",
       "      <td id=\"T_360e2_row23_col25\" class=\"data row23 col25\" >0</td>\n",
       "      <td id=\"T_360e2_row23_col26\" class=\"data row23 col26\" >0</td>\n",
       "      <td id=\"T_360e2_row23_col27\" class=\"data row23 col27\" >0</td>\n",
       "    </tr>\n",
       "    <tr>\n",
       "      <th id=\"T_360e2_level0_row24\" class=\"row_heading level0 row24\" >24</th>\n",
       "      <td id=\"T_360e2_row24_col0\" class=\"data row24 col0\" >0</td>\n",
       "      <td id=\"T_360e2_row24_col1\" class=\"data row24 col1\" >0</td>\n",
       "      <td id=\"T_360e2_row24_col2\" class=\"data row24 col2\" >0</td>\n",
       "      <td id=\"T_360e2_row24_col3\" class=\"data row24 col3\" >0</td>\n",
       "      <td id=\"T_360e2_row24_col4\" class=\"data row24 col4\" >0</td>\n",
       "      <td id=\"T_360e2_row24_col5\" class=\"data row24 col5\" >0</td>\n",
       "      <td id=\"T_360e2_row24_col6\" class=\"data row24 col6\" >103</td>\n",
       "      <td id=\"T_360e2_row24_col7\" class=\"data row24 col7\" >253</td>\n",
       "      <td id=\"T_360e2_row24_col8\" class=\"data row24 col8\" >253</td>\n",
       "      <td id=\"T_360e2_row24_col9\" class=\"data row24 col9\" >253</td>\n",
       "      <td id=\"T_360e2_row24_col10\" class=\"data row24 col10\" >253</td>\n",
       "      <td id=\"T_360e2_row24_col11\" class=\"data row24 col11\" >253</td>\n",
       "      <td id=\"T_360e2_row24_col12\" class=\"data row24 col12\" >232</td>\n",
       "      <td id=\"T_360e2_row24_col13\" class=\"data row24 col13\" >67</td>\n",
       "      <td id=\"T_360e2_row24_col14\" class=\"data row24 col14\" >1</td>\n",
       "      <td id=\"T_360e2_row24_col15\" class=\"data row24 col15\" >0</td>\n",
       "      <td id=\"T_360e2_row24_col16\" class=\"data row24 col16\" >0</td>\n",
       "      <td id=\"T_360e2_row24_col17\" class=\"data row24 col17\" >0</td>\n",
       "      <td id=\"T_360e2_row24_col18\" class=\"data row24 col18\" >0</td>\n",
       "      <td id=\"T_360e2_row24_col19\" class=\"data row24 col19\" >0</td>\n",
       "      <td id=\"T_360e2_row24_col20\" class=\"data row24 col20\" >0</td>\n",
       "      <td id=\"T_360e2_row24_col21\" class=\"data row24 col21\" >0</td>\n",
       "      <td id=\"T_360e2_row24_col22\" class=\"data row24 col22\" >0</td>\n",
       "      <td id=\"T_360e2_row24_col23\" class=\"data row24 col23\" >0</td>\n",
       "      <td id=\"T_360e2_row24_col24\" class=\"data row24 col24\" >0</td>\n",
       "      <td id=\"T_360e2_row24_col25\" class=\"data row24 col25\" >0</td>\n",
       "      <td id=\"T_360e2_row24_col26\" class=\"data row24 col26\" >0</td>\n",
       "      <td id=\"T_360e2_row24_col27\" class=\"data row24 col27\" >0</td>\n",
       "    </tr>\n",
       "    <tr>\n",
       "      <th id=\"T_360e2_level0_row25\" class=\"row_heading level0 row25\" >25</th>\n",
       "      <td id=\"T_360e2_row25_col0\" class=\"data row25 col0\" >0</td>\n",
       "      <td id=\"T_360e2_row25_col1\" class=\"data row25 col1\" >0</td>\n",
       "      <td id=\"T_360e2_row25_col2\" class=\"data row25 col2\" >0</td>\n",
       "      <td id=\"T_360e2_row25_col3\" class=\"data row25 col3\" >0</td>\n",
       "      <td id=\"T_360e2_row25_col4\" class=\"data row25 col4\" >0</td>\n",
       "      <td id=\"T_360e2_row25_col5\" class=\"data row25 col5\" >0</td>\n",
       "      <td id=\"T_360e2_row25_col6\" class=\"data row25 col6\" >0</td>\n",
       "      <td id=\"T_360e2_row25_col7\" class=\"data row25 col7\" >0</td>\n",
       "      <td id=\"T_360e2_row25_col8\" class=\"data row25 col8\" >0</td>\n",
       "      <td id=\"T_360e2_row25_col9\" class=\"data row25 col9\" >0</td>\n",
       "      <td id=\"T_360e2_row25_col10\" class=\"data row25 col10\" >0</td>\n",
       "      <td id=\"T_360e2_row25_col11\" class=\"data row25 col11\" >0</td>\n",
       "      <td id=\"T_360e2_row25_col12\" class=\"data row25 col12\" >0</td>\n",
       "      <td id=\"T_360e2_row25_col13\" class=\"data row25 col13\" >0</td>\n",
       "      <td id=\"T_360e2_row25_col14\" class=\"data row25 col14\" >0</td>\n",
       "      <td id=\"T_360e2_row25_col15\" class=\"data row25 col15\" >0</td>\n",
       "      <td id=\"T_360e2_row25_col16\" class=\"data row25 col16\" >0</td>\n",
       "      <td id=\"T_360e2_row25_col17\" class=\"data row25 col17\" >0</td>\n",
       "      <td id=\"T_360e2_row25_col18\" class=\"data row25 col18\" >0</td>\n",
       "      <td id=\"T_360e2_row25_col19\" class=\"data row25 col19\" >0</td>\n",
       "      <td id=\"T_360e2_row25_col20\" class=\"data row25 col20\" >0</td>\n",
       "      <td id=\"T_360e2_row25_col21\" class=\"data row25 col21\" >0</td>\n",
       "      <td id=\"T_360e2_row25_col22\" class=\"data row25 col22\" >0</td>\n",
       "      <td id=\"T_360e2_row25_col23\" class=\"data row25 col23\" >0</td>\n",
       "      <td id=\"T_360e2_row25_col24\" class=\"data row25 col24\" >0</td>\n",
       "      <td id=\"T_360e2_row25_col25\" class=\"data row25 col25\" >0</td>\n",
       "      <td id=\"T_360e2_row25_col26\" class=\"data row25 col26\" >0</td>\n",
       "      <td id=\"T_360e2_row25_col27\" class=\"data row25 col27\" >0</td>\n",
       "    </tr>\n",
       "    <tr>\n",
       "      <th id=\"T_360e2_level0_row26\" class=\"row_heading level0 row26\" >26</th>\n",
       "      <td id=\"T_360e2_row26_col0\" class=\"data row26 col0\" >0</td>\n",
       "      <td id=\"T_360e2_row26_col1\" class=\"data row26 col1\" >0</td>\n",
       "      <td id=\"T_360e2_row26_col2\" class=\"data row26 col2\" >0</td>\n",
       "      <td id=\"T_360e2_row26_col3\" class=\"data row26 col3\" >0</td>\n",
       "      <td id=\"T_360e2_row26_col4\" class=\"data row26 col4\" >0</td>\n",
       "      <td id=\"T_360e2_row26_col5\" class=\"data row26 col5\" >0</td>\n",
       "      <td id=\"T_360e2_row26_col6\" class=\"data row26 col6\" >0</td>\n",
       "      <td id=\"T_360e2_row26_col7\" class=\"data row26 col7\" >0</td>\n",
       "      <td id=\"T_360e2_row26_col8\" class=\"data row26 col8\" >0</td>\n",
       "      <td id=\"T_360e2_row26_col9\" class=\"data row26 col9\" >0</td>\n",
       "      <td id=\"T_360e2_row26_col10\" class=\"data row26 col10\" >0</td>\n",
       "      <td id=\"T_360e2_row26_col11\" class=\"data row26 col11\" >0</td>\n",
       "      <td id=\"T_360e2_row26_col12\" class=\"data row26 col12\" >0</td>\n",
       "      <td id=\"T_360e2_row26_col13\" class=\"data row26 col13\" >0</td>\n",
       "      <td id=\"T_360e2_row26_col14\" class=\"data row26 col14\" >0</td>\n",
       "      <td id=\"T_360e2_row26_col15\" class=\"data row26 col15\" >0</td>\n",
       "      <td id=\"T_360e2_row26_col16\" class=\"data row26 col16\" >0</td>\n",
       "      <td id=\"T_360e2_row26_col17\" class=\"data row26 col17\" >0</td>\n",
       "      <td id=\"T_360e2_row26_col18\" class=\"data row26 col18\" >0</td>\n",
       "      <td id=\"T_360e2_row26_col19\" class=\"data row26 col19\" >0</td>\n",
       "      <td id=\"T_360e2_row26_col20\" class=\"data row26 col20\" >0</td>\n",
       "      <td id=\"T_360e2_row26_col21\" class=\"data row26 col21\" >0</td>\n",
       "      <td id=\"T_360e2_row26_col22\" class=\"data row26 col22\" >0</td>\n",
       "      <td id=\"T_360e2_row26_col23\" class=\"data row26 col23\" >0</td>\n",
       "      <td id=\"T_360e2_row26_col24\" class=\"data row26 col24\" >0</td>\n",
       "      <td id=\"T_360e2_row26_col25\" class=\"data row26 col25\" >0</td>\n",
       "      <td id=\"T_360e2_row26_col26\" class=\"data row26 col26\" >0</td>\n",
       "      <td id=\"T_360e2_row26_col27\" class=\"data row26 col27\" >0</td>\n",
       "    </tr>\n",
       "    <tr>\n",
       "      <th id=\"T_360e2_level0_row27\" class=\"row_heading level0 row27\" >27</th>\n",
       "      <td id=\"T_360e2_row27_col0\" class=\"data row27 col0\" >0</td>\n",
       "      <td id=\"T_360e2_row27_col1\" class=\"data row27 col1\" >0</td>\n",
       "      <td id=\"T_360e2_row27_col2\" class=\"data row27 col2\" >0</td>\n",
       "      <td id=\"T_360e2_row27_col3\" class=\"data row27 col3\" >0</td>\n",
       "      <td id=\"T_360e2_row27_col4\" class=\"data row27 col4\" >0</td>\n",
       "      <td id=\"T_360e2_row27_col5\" class=\"data row27 col5\" >0</td>\n",
       "      <td id=\"T_360e2_row27_col6\" class=\"data row27 col6\" >0</td>\n",
       "      <td id=\"T_360e2_row27_col7\" class=\"data row27 col7\" >0</td>\n",
       "      <td id=\"T_360e2_row27_col8\" class=\"data row27 col8\" >0</td>\n",
       "      <td id=\"T_360e2_row27_col9\" class=\"data row27 col9\" >0</td>\n",
       "      <td id=\"T_360e2_row27_col10\" class=\"data row27 col10\" >0</td>\n",
       "      <td id=\"T_360e2_row27_col11\" class=\"data row27 col11\" >0</td>\n",
       "      <td id=\"T_360e2_row27_col12\" class=\"data row27 col12\" >0</td>\n",
       "      <td id=\"T_360e2_row27_col13\" class=\"data row27 col13\" >0</td>\n",
       "      <td id=\"T_360e2_row27_col14\" class=\"data row27 col14\" >0</td>\n",
       "      <td id=\"T_360e2_row27_col15\" class=\"data row27 col15\" >0</td>\n",
       "      <td id=\"T_360e2_row27_col16\" class=\"data row27 col16\" >0</td>\n",
       "      <td id=\"T_360e2_row27_col17\" class=\"data row27 col17\" >0</td>\n",
       "      <td id=\"T_360e2_row27_col18\" class=\"data row27 col18\" >0</td>\n",
       "      <td id=\"T_360e2_row27_col19\" class=\"data row27 col19\" >0</td>\n",
       "      <td id=\"T_360e2_row27_col20\" class=\"data row27 col20\" >0</td>\n",
       "      <td id=\"T_360e2_row27_col21\" class=\"data row27 col21\" >0</td>\n",
       "      <td id=\"T_360e2_row27_col22\" class=\"data row27 col22\" >0</td>\n",
       "      <td id=\"T_360e2_row27_col23\" class=\"data row27 col23\" >0</td>\n",
       "      <td id=\"T_360e2_row27_col24\" class=\"data row27 col24\" >0</td>\n",
       "      <td id=\"T_360e2_row27_col25\" class=\"data row27 col25\" >0</td>\n",
       "      <td id=\"T_360e2_row27_col26\" class=\"data row27 col26\" >0</td>\n",
       "      <td id=\"T_360e2_row27_col27\" class=\"data row27 col27\" >0</td>\n",
       "    </tr>\n",
       "  </tbody>\n",
       "</table>\n"
      ],
      "text/plain": [
       "<pandas.io.formats.style.Styler at 0x788601e3ee90>"
      ]
     },
     "execution_count": 10,
     "metadata": {},
     "output_type": "execute_result"
    }
   ],
   "source": [
    "im3_t = tensor(im3)\n",
    "df = pd.DataFrame(im3_t)\n",
    "df.style.set_properties(**{'font-size':'6pt'}).background_gradient('Greys')"
   ]
  },
  {
   "cell_type": "code",
   "execution_count": 11,
   "id": "e5c30597",
   "metadata": {
    "execution": {
     "iopub.execute_input": "2023-04-22T19:43:42.600318Z",
     "iopub.status.busy": "2023-04-22T19:43:42.599970Z",
     "iopub.status.idle": "2023-04-22T19:43:45.450782Z",
     "shell.execute_reply": "2023-04-22T19:43:45.449786Z"
    },
    "papermill": {
     "duration": 2.861999,
     "end_time": "2023-04-22T19:43:45.453229",
     "exception": false,
     "start_time": "2023-04-22T19:43:42.591230",
     "status": "completed"
    },
    "tags": []
   },
   "outputs": [
    {
     "data": {
      "text/plain": [
       "(6131, 6265)"
      ]
     },
     "execution_count": 11,
     "metadata": {},
     "output_type": "execute_result"
    }
   ],
   "source": [
    "three_tensors = [tensor(Image.open(o)) for o in threes]\n",
    "seven_tensors = [tensor(Image.open(o)) for o in sevens]\n",
    "len(three_tensors),len(seven_tensors)"
   ]
  },
  {
   "cell_type": "code",
   "execution_count": 12,
   "id": "f52728ce",
   "metadata": {
    "execution": {
     "iopub.execute_input": "2023-04-22T19:43:45.470451Z",
     "iopub.status.busy": "2023-04-22T19:43:45.470153Z",
     "iopub.status.idle": "2023-04-22T19:43:45.522618Z",
     "shell.execute_reply": "2023-04-22T19:43:45.521444Z"
    },
    "papermill": {
     "duration": 0.064779,
     "end_time": "2023-04-22T19:43:45.525957",
     "exception": false,
     "start_time": "2023-04-22T19:43:45.461178",
     "status": "completed"
    },
    "tags": []
   },
   "outputs": [
    {
     "data": {
      "image/png": "[encoded data removed]",
      "text/plain": [
       "<Figure size 100x100 with 1 Axes>"
      ]
     },
     "metadata": {},
     "output_type": "display_data"
    }
   ],
   "source": [
    "_ = show_image(three_tensors[19])"
   ]
  },
  {
   "cell_type": "code",
   "execution_count": 13,
   "id": "2dfb619a",
   "metadata": {
    "execution": {
     "iopub.execute_input": "2023-04-22T19:43:45.568603Z",
     "iopub.status.busy": "2023-04-22T19:43:45.568053Z",
     "iopub.status.idle": "2023-04-22T19:43:45.676160Z",
     "shell.execute_reply": "2023-04-22T19:43:45.674969Z"
    },
    "papermill": {
     "duration": 0.131979,
     "end_time": "2023-04-22T19:43:45.678428",
     "exception": false,
     "start_time": "2023-04-22T19:43:45.546449",
     "status": "completed"
    },
    "tags": []
   },
   "outputs": [
    {
     "data": {
      "text/plain": [
       "(torch.Size([6131, 28, 28]), torch.Size([6265, 28, 28]))"
      ]
     },
     "execution_count": 13,
     "metadata": {},
     "output_type": "execute_result"
    }
   ],
   "source": [
    "sevens_stacked = torch.stack(seven_tensors).float()/255\n",
    "threes_stacked = torch.stack(three_tensors).float()/255\n",
    "threes_stacked.shape, sevens_stacked.shape"
   ]
  },
  {
   "cell_type": "code",
   "execution_count": 14,
   "id": "d51e0839",
   "metadata": {
    "execution": {
     "iopub.execute_input": "2023-04-22T19:43:45.696712Z",
     "iopub.status.busy": "2023-04-22T19:43:45.695871Z",
     "iopub.status.idle": "2023-04-22T19:43:45.722154Z",
     "shell.execute_reply": "2023-04-22T19:43:45.721058Z"
    },
    "papermill": {
     "duration": 0.037592,
     "end_time": "2023-04-22T19:43:45.724225",
     "exception": false,
     "start_time": "2023-04-22T19:43:45.686633",
     "status": "completed"
    },
    "tags": []
   },
   "outputs": [
    {
     "data": {
      "text/plain": [
       "tensor([[[0., 0., 0.,  ..., 0., 0., 0.],\n",
       "         [0., 0., 0.,  ..., 0., 0., 0.],\n",
       "         [0., 0., 0.,  ..., 0., 0., 0.],\n",
       "         ...,\n",
       "         [0., 0., 0.,  ..., 0., 0., 0.],\n",
       "         [0., 0., 0.,  ..., 0., 0., 0.],\n",
       "         [0., 0., 0.,  ..., 0., 0., 0.]],\n",
       "\n",
       "        [[0., 0., 0.,  ..., 0., 0., 0.],\n",
       "         [0., 0., 0.,  ..., 0., 0., 0.],\n",
       "         [0., 0., 0.,  ..., 0., 0., 0.],\n",
       "         ...,\n",
       "         [0., 0., 0.,  ..., 0., 0., 0.],\n",
       "         [0., 0., 0.,  ..., 0., 0., 0.],\n",
       "         [0., 0., 0.,  ..., 0., 0., 0.]],\n",
       "\n",
       "        [[0., 0., 0.,  ..., 0., 0., 0.],\n",
       "         [0., 0., 0.,  ..., 0., 0., 0.],\n",
       "         [0., 0., 0.,  ..., 0., 0., 0.],\n",
       "         ...,\n",
       "         [0., 0., 0.,  ..., 0., 0., 0.],\n",
       "         [0., 0., 0.,  ..., 0., 0., 0.],\n",
       "         [0., 0., 0.,  ..., 0., 0., 0.]],\n",
       "\n",
       "        ...,\n",
       "\n",
       "        [[0., 0., 0.,  ..., 0., 0., 0.],\n",
       "         [0., 0., 0.,  ..., 0., 0., 0.],\n",
       "         [0., 0., 0.,  ..., 0., 0., 0.],\n",
       "         ...,\n",
       "         [0., 0., 0.,  ..., 0., 0., 0.],\n",
       "         [0., 0., 0.,  ..., 0., 0., 0.],\n",
       "         [0., 0., 0.,  ..., 0., 0., 0.]],\n",
       "\n",
       "        [[0., 0., 0.,  ..., 0., 0., 0.],\n",
       "         [0., 0., 0.,  ..., 0., 0., 0.],\n",
       "         [0., 0., 0.,  ..., 0., 0., 0.],\n",
       "         ...,\n",
       "         [0., 0., 0.,  ..., 0., 0., 0.],\n",
       "         [0., 0., 0.,  ..., 0., 0., 0.],\n",
       "         [0., 0., 0.,  ..., 0., 0., 0.]],\n",
       "\n",
       "        [[0., 0., 0.,  ..., 0., 0., 0.],\n",
       "         [0., 0., 0.,  ..., 0., 0., 0.],\n",
       "         [0., 0., 0.,  ..., 0., 0., 0.],\n",
       "         ...,\n",
       "         [0., 0., 0.,  ..., 0., 0., 0.],\n",
       "         [0., 0., 0.,  ..., 0., 0., 0.],\n",
       "         [0., 0., 0.,  ..., 0., 0., 0.]]])"
      ]
     },
     "execution_count": 14,
     "metadata": {},
     "output_type": "execute_result"
    }
   ],
   "source": [
    "sevens_stacked"
   ]
  },
  {
   "cell_type": "code",
   "execution_count": 15,
   "id": "3a711f4e",
   "metadata": {
    "execution": {
     "iopub.execute_input": "2023-04-22T19:43:45.742237Z",
     "iopub.status.busy": "2023-04-22T19:43:45.741398Z",
     "iopub.status.idle": "2023-04-22T19:43:45.787615Z",
     "shell.execute_reply": "2023-04-22T19:43:45.786142Z"
    },
    "papermill": {
     "duration": 0.058106,
     "end_time": "2023-04-22T19:43:45.790498",
     "exception": false,
     "start_time": "2023-04-22T19:43:45.732392",
     "status": "completed"
    },
    "tags": []
   },
   "outputs": [
    {
     "data": {
      "image/png": "[encoded data removed]",
      "text/plain": [
       "<Figure size 100x100 with 1 Axes>"
      ]
     },
     "metadata": {},
     "output_type": "display_data"
    }
   ],
   "source": [
    "mean3 = threes_stacked.mean(0)\n",
    "_ = show_image(mean3)"
   ]
  },
  {
   "cell_type": "code",
   "execution_count": 16,
   "id": "d903d18f",
   "metadata": {
    "execution": {
     "iopub.execute_input": "2023-04-22T19:43:45.834648Z",
     "iopub.status.busy": "2023-04-22T19:43:45.834195Z",
     "iopub.status.idle": "2023-04-22T19:43:45.903143Z",
     "shell.execute_reply": "2023-04-22T19:43:45.901961Z"
    },
    "papermill": {
     "duration": 0.094827,
     "end_time": "2023-04-22T19:43:45.906681",
     "exception": false,
     "start_time": "2023-04-22T19:43:45.811854",
     "status": "completed"
    },
    "tags": []
   },
   "outputs": [
    {
     "data": {
      "image/png": "[encoded data removed]",
      "text/plain": [
       "<Figure size 100x100 with 1 Axes>"
      ]
     },
     "metadata": {},
     "output_type": "display_data"
    }
   ],
   "source": [
    "mean7 = sevens_stacked.mean(0)\n",
    "_ = show_image(mean7)"
   ]
  },
  {
   "cell_type": "markdown",
   "id": "9edeb437",
   "metadata": {
    "papermill": {
     "duration": 0.021466,
     "end_time": "2023-04-22T19:43:45.951288",
     "exception": false,
     "start_time": "2023-04-22T19:43:45.929822",
     "status": "completed"
    },
    "tags": []
   },
   "source": [
    "Difference between sample and ideal number"
   ]
  },
  {
   "cell_type": "code",
   "execution_count": 17,
   "id": "bb7999be",
   "metadata": {
    "execution": {
     "iopub.execute_input": "2023-04-22T19:43:45.996736Z",
     "iopub.status.busy": "2023-04-22T19:43:45.996235Z",
     "iopub.status.idle": "2023-04-22T19:43:46.046343Z",
     "shell.execute_reply": "2023-04-22T19:43:46.045153Z"
    },
    "papermill": {
     "duration": 0.076813,
     "end_time": "2023-04-22T19:43:46.049897",
     "exception": false,
     "start_time": "2023-04-22T19:43:45.973084",
     "status": "completed"
    },
    "tags": []
   },
   "outputs": [
    {
     "data": {
      "image/png": "[encoded data removed]",
      "text/plain": [
       "<Figure size 100x100 with 1 Axes>"
      ]
     },
     "metadata": {},
     "output_type": "display_data"
    }
   ],
   "source": [
    "sample3 = threes_stacked[7]\n",
    "_ = show_image(sample3)"
   ]
  },
  {
   "cell_type": "code",
   "execution_count": 18,
   "id": "60e7856f",
   "metadata": {
    "execution": {
     "iopub.execute_input": "2023-04-22T19:43:46.095877Z",
     "iopub.status.busy": "2023-04-22T19:43:46.095398Z",
     "iopub.status.idle": "2023-04-22T19:43:46.156954Z",
     "shell.execute_reply": "2023-04-22T19:43:46.155527Z"
    },
    "papermill": {
     "duration": 0.088226,
     "end_time": "2023-04-22T19:43:46.160442",
     "exception": false,
     "start_time": "2023-04-22T19:43:46.072216",
     "status": "completed"
    },
    "tags": []
   },
   "outputs": [
    {
     "data": {
      "image/png": "[encoded data removed]",
      "text/plain": [
       "<Figure size 100x100 with 1 Axes>"
      ]
     },
     "metadata": {},
     "output_type": "display_data"
    }
   ],
   "source": [
    "sample7 = sevens_stacked[3]\n",
    "_ = show_image(sample7)"
   ]
  },
  {
   "cell_type": "markdown",
   "id": "246d5fdd",
   "metadata": {
    "papermill": {
     "duration": 0.022027,
     "end_time": "2023-04-22T19:43:46.204766",
     "exception": false,
     "start_time": "2023-04-22T19:43:46.182739",
     "status": "completed"
    },
    "tags": []
   },
   "source": [
    "1. Mean absolute"
   ]
  },
  {
   "cell_type": "code",
   "execution_count": 19,
   "id": "474de6ff",
   "metadata": {
    "execution": {
     "iopub.execute_input": "2023-04-22T19:43:46.251494Z",
     "iopub.status.busy": "2023-04-22T19:43:46.251035Z",
     "iopub.status.idle": "2023-04-22T19:43:46.279388Z",
     "shell.execute_reply": "2023-04-22T19:43:46.278455Z"
    },
    "papermill": {
     "duration": 0.054036,
     "end_time": "2023-04-22T19:43:46.281605",
     "exception": false,
     "start_time": "2023-04-22T19:43:46.227569",
     "status": "completed"
    },
    "tags": []
   },
   "outputs": [
    {
     "data": {
      "text/plain": [
       "(tensor(0.1414), tensor(0.0909), tensor(0.1539), tensor(0.1323))"
      ]
     },
     "execution_count": 19,
     "metadata": {},
     "output_type": "execute_result"
    }
   ],
   "source": [
    "def mean_absolute(ideal, sample):\n",
    "    return (ideal - sample).abs().mean((-1, -2))\n",
    "\n",
    "error3 = mean_absolute(mean3, sample3)\n",
    "error7 = mean_absolute(mean7, sample7)\n",
    "\n",
    "error37 = mean_absolute(mean3, sample7)\n",
    "error73 = mean_absolute(mean7, sample3)\n",
    "error3, error7, error37, error73"
   ]
  },
  {
   "cell_type": "markdown",
   "id": "0217e946",
   "metadata": {
    "papermill": {
     "duration": 0.0086,
     "end_time": "2023-04-22T19:43:46.299189",
     "exception": false,
     "start_time": "2023-04-22T19:43:46.290589",
     "status": "completed"
    },
    "tags": []
   },
   "source": [
    "2. Root mean squared error"
   ]
  },
  {
   "cell_type": "code",
   "execution_count": 20,
   "id": "72464199",
   "metadata": {
    "execution": {
     "iopub.execute_input": "2023-04-22T19:43:46.318202Z",
     "iopub.status.busy": "2023-04-22T19:43:46.317918Z",
     "iopub.status.idle": "2023-04-22T19:43:46.362636Z",
     "shell.execute_reply": "2023-04-22T19:43:46.361580Z"
    },
    "papermill": {
     "duration": 0.056571,
     "end_time": "2023-04-22T19:43:46.364800",
     "exception": false,
     "start_time": "2023-04-22T19:43:46.308229",
     "status": "completed"
    },
    "tags": []
   },
   "outputs": [
    {
     "data": {
      "text/plain": [
       "(tensor(0.2557), tensor(0.1792), tensor(0.2791), tensor(0.2604))"
      ]
     },
     "execution_count": 20,
     "metadata": {},
     "output_type": "execute_result"
    }
   ],
   "source": [
    "def rmse(ideal, sample):\n",
    "    return (((ideal - sample)**2).mean())**0.5\n",
    "\n",
    "error3 = rmse(mean3, sample3)\n",
    "error7 = rmse(mean7, sample7)\n",
    "\n",
    "error37 = rmse(mean3, sample7)\n",
    "error73 = rmse(mean7, sample3)\n",
    "error3, error7, error37, error73"
   ]
  },
  {
   "cell_type": "code",
   "execution_count": 21,
   "id": "e36e9de2",
   "metadata": {
    "execution": {
     "iopub.execute_input": "2023-04-22T19:43:46.384436Z",
     "iopub.status.busy": "2023-04-22T19:43:46.383749Z",
     "iopub.status.idle": "2023-04-22T19:43:46.394587Z",
     "shell.execute_reply": "2023-04-22T19:43:46.393534Z"
    },
    "papermill": {
     "duration": 0.022594,
     "end_time": "2023-04-22T19:43:46.396650",
     "exception": false,
     "start_time": "2023-04-22T19:43:46.374056",
     "status": "completed"
    },
    "tags": []
   },
   "outputs": [
    {
     "data": {
      "text/plain": [
       "(tensor(0.0909), tensor(0.1792))"
      ]
     },
     "execution_count": 21,
     "metadata": {},
     "output_type": "execute_result"
    }
   ],
   "source": [
    "F.l1_loss(sample7, mean7), F.mse_loss(sample7, mean7).sqrt()"
   ]
  },
  {
   "cell_type": "code",
   "execution_count": 22,
   "id": "89f5dea2",
   "metadata": {
    "execution": {
     "iopub.execute_input": "2023-04-22T19:43:46.416495Z",
     "iopub.status.busy": "2023-04-22T19:43:46.415753Z",
     "iopub.status.idle": "2023-04-22T19:43:46.883452Z",
     "shell.execute_reply": "2023-04-22T19:43:46.882354Z"
    },
    "papermill": {
     "duration": 0.479911,
     "end_time": "2023-04-22T19:43:46.885662",
     "exception": false,
     "start_time": "2023-04-22T19:43:46.405751",
     "status": "completed"
    },
    "tags": []
   },
   "outputs": [
    {
     "data": {
      "text/plain": [
       "(torch.Size([1010, 28, 28]), torch.Size([1028, 28, 28]))"
      ]
     },
     "execution_count": 22,
     "metadata": {},
     "output_type": "execute_result"
    }
   ],
   "source": [
    "valid_3_tensors = torch.stack([tensor(Image.open(o)) for o in (path/'valid'/'3').ls().sorted()])/255\n",
    "valid_7_tensors = torch.stack([tensor(Image.open(o)) for o in (path/'valid'/'7').ls().sorted()])/255\n",
    "valid_3_tensors.shape,valid_7_tensors.shape"
   ]
  },
  {
   "cell_type": "code",
   "execution_count": 23,
   "id": "5fbbbee7",
   "metadata": {
    "execution": {
     "iopub.execute_input": "2023-04-22T19:43:46.906153Z",
     "iopub.status.busy": "2023-04-22T19:43:46.905798Z",
     "iopub.status.idle": "2023-04-22T19:43:46.914743Z",
     "shell.execute_reply": "2023-04-22T19:43:46.913645Z"
    },
    "papermill": {
     "duration": 0.021827,
     "end_time": "2023-04-22T19:43:46.917319",
     "exception": false,
     "start_time": "2023-04-22T19:43:46.895492",
     "status": "completed"
    },
    "tags": []
   },
   "outputs": [
    {
     "data": {
      "text/plain": [
       "(tensor(0.1623), tensor(0.1958))"
      ]
     },
     "execution_count": 23,
     "metadata": {},
     "output_type": "execute_result"
    }
   ],
   "source": [
    "mean_absolute(mean3, valid_3_tensors[1]), mean_absolute(mean7, valid_3_tensors[1])"
   ]
  },
  {
   "cell_type": "code",
   "execution_count": 24,
   "id": "9fb507cc",
   "metadata": {
    "execution": {
     "iopub.execute_input": "2023-04-22T19:43:46.937526Z",
     "iopub.status.busy": "2023-04-22T19:43:46.936824Z",
     "iopub.status.idle": "2023-04-22T19:43:46.946703Z",
     "shell.execute_reply": "2023-04-22T19:43:46.945535Z"
    },
    "papermill": {
     "duration": 0.022375,
     "end_time": "2023-04-22T19:43:46.948888",
     "exception": false,
     "start_time": "2023-04-22T19:43:46.926513",
     "status": "completed"
    },
    "tags": []
   },
   "outputs": [
    {
     "data": {
      "text/plain": [
       "(tensor([0.1280, 0.1623, 0.1242,  ..., 0.1508, 0.1263, 0.1260]),\n",
       " tensor([0.0874, 0.0971, 0.1050,  ..., 0.0893, 0.0983, 0.0977]))"
      ]
     },
     "execution_count": 24,
     "metadata": {},
     "output_type": "execute_result"
    }
   ],
   "source": [
    "valid_3_error = mean_absolute(mean3, valid_3_tensors)\n",
    "valid_7_error = mean_absolute(mean7, valid_7_tensors)\n",
    "valid_3_error, valid_7_error"
   ]
  },
  {
   "cell_type": "code",
   "execution_count": 25,
   "id": "8b2afac1",
   "metadata": {
    "execution": {
     "iopub.execute_input": "2023-04-22T19:43:46.970428Z",
     "iopub.status.busy": "2023-04-22T19:43:46.970148Z",
     "iopub.status.idle": "2023-04-22T19:43:46.986021Z",
     "shell.execute_reply": "2023-04-22T19:43:46.984935Z"
    },
    "papermill": {
     "duration": 0.029835,
     "end_time": "2023-04-22T19:43:46.988444",
     "exception": false,
     "start_time": "2023-04-22T19:43:46.958609",
     "status": "completed"
    },
    "tags": []
   },
   "outputs": [
    {
     "data": {
      "text/plain": [
       "(tensor(0.9168), tensor(0.9854), tensor(0.9511))"
      ]
     },
     "execution_count": 25,
     "metadata": {},
     "output_type": "execute_result"
    }
   ],
   "source": [
    "def is_3():\n",
    "    return mean_absolute(mean3, valid_3_tensors) < mean_absolute(mean7, valid_3_tensors)\n",
    "def is_7():\n",
    "    return mean_absolute(mean7, valid_7_tensors) < mean_absolute(mean3, valid_7_tensors)\n",
    "acc_3s = is_3().float().mean()\n",
    "acc_7s = is_7().float().mean()\n",
    "acc_3s, acc_7s, (acc_3s+acc_7s)/2"
   ]
  }
 ],
 "metadata": {
  "kernelspec": {
   "display_name": "Python 3",
   "language": "python",
   "name": "python3"
  },
  "language_info": {
   "codemirror_mode": {
    "name": "ipython",
    "version": 3
   },
   "file_extension": ".py",
   "mimetype": "text/x-python",
   "name": "python",
   "nbconvert_exporter": "python",
   "pygments_lexer": "ipython3",
   "version": "3.7.12"
  },
  "papermill": {
   "default_parameters": {},
   "duration": 22.550889,
   "end_time": "2023-04-22T19:43:48.222838",
   "environment_variables": {},
   "exception": null,
   "input_path": "__notebook__.ipynb",
   "output_path": "__notebook__.ipynb",
   "parameters": {},
   "start_time": "2023-04-22T19:43:25.671949",
   "version": "2.4.0"
  }
 },
 "nbformat": 4,
 "nbformat_minor": 5
}
